{
 "cells": [
  {
   "cell_type": "code",
   "execution_count": 1,
   "metadata": {},
   "outputs": [],
   "source": [
    "import numpy as np\n",
    "import tensorflow as tf\n",
    "from tensorflow import keras\n",
    "import pandas as pd\n",
    "from keras.datasets import fashion_mnist\n",
    "import matplotlib.pyplot as plt\n",
    "from keras import models\n",
    "from keras import layers\n",
    "from keras.utils import to_categorical\n",
    "from sklearn.model_selection import KFold"
   ]
  },
  {
   "cell_type": "code",
   "execution_count": 2,
   "metadata": {},
   "outputs": [],
   "source": [
    "def pre_processamento():\n",
    "    (train_images, train_labels), (test_images, test_labels) = fashion_mnist.load_data()\n",
    "\n",
    "    train_images = train_images.reshape((60000,28,28,1))\n",
    "    train_images = train_images.astype('float32')/255 # Modificar os valores de cada pixel para que eles variem de 0 a 1 melhorará a taxa de aprendizado do nosso modelo.\n",
    "\n",
    "    test_images = test_images.reshape((10000,28,28,1))\n",
    "    test_images = test_images.astype('float32')/255 # Modificar os valores de cada pixel para que eles variem de 0 a 1 melhorará a taxa de aprendizado do nosso modelo.\n",
    "\n",
    "    train_labels = to_categorical(train_labels) # Nosso modelo não pode trabalhar com dados categóricos diretamente. Portanto, devemos usar uma codificação quente. Em uma codificação ativa, os dígitos de 0 a 9 são representados como um conjunto de nove zeros e um único. O dígito é determinado pela localização do número 1. Por exemplo, você representaria um 3 como [0, 0, 0, 1, 0, 0, 0, 0, 0, 0]\n",
    "    test_labels = to_categorical(test_labels) # one hot encoding\n",
    "\n",
    "    return train_images, train_labels, test_images, test_labels"
   ]
  },
  {
   "cell_type": "code",
   "execution_count": 3,
   "metadata": {},
   "outputs": [],
   "source": [
    "# Definir a arquitetura da CNN\n",
    "def criar_modelo(conv_layers, filters, dense_size):\n",
    "    model = models.Sequential()\n",
    "\n",
    "    # Adicionar camadas de convolução-pooling\n",
    "    for i in range(conv_layers):\n",
    "        model.add(layers.Conv2D(filters=filters, kernel_size=(3, 3), strides=(1, 1), padding='same', activation='relu', input_shape = (28,28,1)))\n",
    "        model.add(layers.MaxPooling2D(pool_size=(2, 2)))\n",
    "\n",
    "\n",
    "    model.add(layers.Flatten())\n",
    "    model.add(layers.Dense(dense_size, activation='relu'))\n",
    "    model.add(layers.Dense(10, activation='softmax')) # 10 é o número de classes\n",
    "    \n",
    "    model.compile(optimizer = 'rmsprop', loss = 'categorical_crossentropy', metrics = ['accuracy'])\n",
    "    return model"
   ]
  },
  {
   "cell_type": "code",
   "execution_count": 4,
   "metadata": {},
   "outputs": [],
   "source": [
    "train_images, train_labels, test_images, test_labels = pre_processamento()"
   ]
  },
  {
   "cell_type": "code",
   "execution_count": 31,
   "metadata": {},
   "outputs": [],
   "source": [
    "# Definir os valores fixos dos parâmetros\n",
    "filters = 32\n",
    "dense_size = 64\n",
    "\n",
    "# Testar diferentes quantidades de camadas de convolução-pooling\n",
    "conv_layers_list = [1, 2, 3]\n",
    "folds = 5"
   ]
  },
  {
   "cell_type": "code",
   "execution_count": 32,
   "metadata": {},
   "outputs": [],
   "source": [
    "cv = KFold(n_splits=folds, shuffle=True, random_state=42) # vamos embaralhá-los antes de dividi-lo, seed 42"
   ]
  },
  {
   "cell_type": "code",
   "execution_count": 35,
   "metadata": {},
   "outputs": [
    {
     "name": "stdout",
     "output_type": "stream",
     "text": [
      "Treinando fold 1, com 1 camada(s) de convolução-pooling\n",
      "Epoch 1/5\n",
      "750/750 - 20s - loss: 0.4808 - accuracy: 0.8299 - 20s/epoch - 27ms/step\n",
      "Epoch 2/5\n"
     ]
    },
    {
     "ename": "KeyboardInterrupt",
     "evalue": "",
     "output_type": "error",
     "traceback": [
      "\u001b[1;31m---------------------------------------------------------------------------\u001b[0m",
      "\u001b[1;31mKeyboardInterrupt\u001b[0m                         Traceback (most recent call last)",
      "\u001b[1;32mc:\\Users\\juju_\\OneDrive\\Documentos\\Sistemas-de-Informação\\5-Semestre\\IA\\IA-CNN\\fashion_mnist.ipynb Cell 7\u001b[0m in \u001b[0;36m<module>\u001b[1;34m\u001b[0m\n\u001b[0;32m      <a href='vscode-notebook-cell:/c%3A/Users/juju_/OneDrive/Documentos/Sistemas-de-Informa%C3%A7%C3%A3o/5-Semestre/IA/IA-CNN/fashion_mnist.ipynb#X36sZmlsZQ%3D%3D?line=8'>9</a>\u001b[0m test_X \u001b[39m=\u001b[39m train_images[test]\n\u001b[0;32m     <a href='vscode-notebook-cell:/c%3A/Users/juju_/OneDrive/Documentos/Sistemas-de-Informa%C3%A7%C3%A3o/5-Semestre/IA/IA-CNN/fashion_mnist.ipynb#X36sZmlsZQ%3D%3D?line=9'>10</a>\u001b[0m model \u001b[39m=\u001b[39m criar_modelo(layer, filters, dense_size)\n\u001b[1;32m---> <a href='vscode-notebook-cell:/c%3A/Users/juju_/OneDrive/Documentos/Sistemas-de-Informa%C3%A7%C3%A3o/5-Semestre/IA/IA-CNN/fashion_mnist.ipynb#X36sZmlsZQ%3D%3D?line=10'>11</a>\u001b[0m model\u001b[39m.\u001b[39;49mfit(train_X, train_labels[train], epochs\u001b[39m=\u001b[39;49m\u001b[39m5\u001b[39;49m, batch_size \u001b[39m=\u001b[39;49m \u001b[39m64\u001b[39;49m, verbose\u001b[39m=\u001b[39;49m\u001b[39m2\u001b[39;49m)\n\u001b[0;32m     <a href='vscode-notebook-cell:/c%3A/Users/juju_/OneDrive/Documentos/Sistemas-de-Informa%C3%A7%C3%A3o/5-Semestre/IA/IA-CNN/fashion_mnist.ipynb#X36sZmlsZQ%3D%3D?line=11'>12</a>\u001b[0m test_loss, test_acc \u001b[39m=\u001b[39m model\u001b[39m.\u001b[39mevaluate(test_X, train_labels[test])\n\u001b[0;32m     <a href='vscode-notebook-cell:/c%3A/Users/juju_/OneDrive/Documentos/Sistemas-de-Informa%C3%A7%C3%A3o/5-Semestre/IA/IA-CNN/fashion_mnist.ipynb#X36sZmlsZQ%3D%3D?line=12'>13</a>\u001b[0m acc_per_fold\u001b[39m.\u001b[39mappend(test_acc \u001b[39m*\u001b[39m \u001b[39m100\u001b[39m)\n",
      "File \u001b[1;32mc:\\Users\\juju_\\AppData\\Local\\Programs\\Python\\Python310\\lib\\site-packages\\keras\\utils\\traceback_utils.py:65\u001b[0m, in \u001b[0;36mfilter_traceback.<locals>.error_handler\u001b[1;34m(*args, **kwargs)\u001b[0m\n\u001b[0;32m     63\u001b[0m filtered_tb \u001b[39m=\u001b[39m \u001b[39mNone\u001b[39;00m\n\u001b[0;32m     64\u001b[0m \u001b[39mtry\u001b[39;00m:\n\u001b[1;32m---> 65\u001b[0m     \u001b[39mreturn\u001b[39;00m fn(\u001b[39m*\u001b[39margs, \u001b[39m*\u001b[39m\u001b[39m*\u001b[39mkwargs)\n\u001b[0;32m     66\u001b[0m \u001b[39mexcept\u001b[39;00m \u001b[39mException\u001b[39;00m \u001b[39mas\u001b[39;00m e:\n\u001b[0;32m     67\u001b[0m     filtered_tb \u001b[39m=\u001b[39m _process_traceback_frames(e\u001b[39m.\u001b[39m__traceback__)\n",
      "File \u001b[1;32mc:\\Users\\juju_\\AppData\\Local\\Programs\\Python\\Python310\\lib\\site-packages\\keras\\engine\\training.py:1685\u001b[0m, in \u001b[0;36mModel.fit\u001b[1;34m(self, x, y, batch_size, epochs, verbose, callbacks, validation_split, validation_data, shuffle, class_weight, sample_weight, initial_epoch, steps_per_epoch, validation_steps, validation_batch_size, validation_freq, max_queue_size, workers, use_multiprocessing)\u001b[0m\n\u001b[0;32m   1677\u001b[0m \u001b[39mwith\u001b[39;00m tf\u001b[39m.\u001b[39mprofiler\u001b[39m.\u001b[39mexperimental\u001b[39m.\u001b[39mTrace(\n\u001b[0;32m   1678\u001b[0m     \u001b[39m\"\u001b[39m\u001b[39mtrain\u001b[39m\u001b[39m\"\u001b[39m,\n\u001b[0;32m   1679\u001b[0m     epoch_num\u001b[39m=\u001b[39mepoch,\n\u001b[1;32m   (...)\u001b[0m\n\u001b[0;32m   1682\u001b[0m     _r\u001b[39m=\u001b[39m\u001b[39m1\u001b[39m,\n\u001b[0;32m   1683\u001b[0m ):\n\u001b[0;32m   1684\u001b[0m     callbacks\u001b[39m.\u001b[39mon_train_batch_begin(step)\n\u001b[1;32m-> 1685\u001b[0m     tmp_logs \u001b[39m=\u001b[39m \u001b[39mself\u001b[39;49m\u001b[39m.\u001b[39;49mtrain_function(iterator)\n\u001b[0;32m   1686\u001b[0m     \u001b[39mif\u001b[39;00m data_handler\u001b[39m.\u001b[39mshould_sync:\n\u001b[0;32m   1687\u001b[0m         context\u001b[39m.\u001b[39masync_wait()\n",
      "File \u001b[1;32mc:\\Users\\juju_\\AppData\\Local\\Programs\\Python\\Python310\\lib\\site-packages\\tensorflow\\python\\util\\traceback_utils.py:150\u001b[0m, in \u001b[0;36mfilter_traceback.<locals>.error_handler\u001b[1;34m(*args, **kwargs)\u001b[0m\n\u001b[0;32m    148\u001b[0m filtered_tb \u001b[39m=\u001b[39m \u001b[39mNone\u001b[39;00m\n\u001b[0;32m    149\u001b[0m \u001b[39mtry\u001b[39;00m:\n\u001b[1;32m--> 150\u001b[0m   \u001b[39mreturn\u001b[39;00m fn(\u001b[39m*\u001b[39margs, \u001b[39m*\u001b[39m\u001b[39m*\u001b[39mkwargs)\n\u001b[0;32m    151\u001b[0m \u001b[39mexcept\u001b[39;00m \u001b[39mException\u001b[39;00m \u001b[39mas\u001b[39;00m e:\n\u001b[0;32m    152\u001b[0m   filtered_tb \u001b[39m=\u001b[39m _process_traceback_frames(e\u001b[39m.\u001b[39m__traceback__)\n",
      "File \u001b[1;32mc:\\Users\\juju_\\AppData\\Local\\Programs\\Python\\Python310\\lib\\site-packages\\tensorflow\\python\\eager\\polymorphic_function\\polymorphic_function.py:894\u001b[0m, in \u001b[0;36mFunction.__call__\u001b[1;34m(self, *args, **kwds)\u001b[0m\n\u001b[0;32m    891\u001b[0m compiler \u001b[39m=\u001b[39m \u001b[39m\"\u001b[39m\u001b[39mxla\u001b[39m\u001b[39m\"\u001b[39m \u001b[39mif\u001b[39;00m \u001b[39mself\u001b[39m\u001b[39m.\u001b[39m_jit_compile \u001b[39melse\u001b[39;00m \u001b[39m\"\u001b[39m\u001b[39mnonXla\u001b[39m\u001b[39m\"\u001b[39m\n\u001b[0;32m    893\u001b[0m \u001b[39mwith\u001b[39;00m OptionalXlaContext(\u001b[39mself\u001b[39m\u001b[39m.\u001b[39m_jit_compile):\n\u001b[1;32m--> 894\u001b[0m   result \u001b[39m=\u001b[39m \u001b[39mself\u001b[39m\u001b[39m.\u001b[39m_call(\u001b[39m*\u001b[39margs, \u001b[39m*\u001b[39m\u001b[39m*\u001b[39mkwds)\n\u001b[0;32m    896\u001b[0m new_tracing_count \u001b[39m=\u001b[39m \u001b[39mself\u001b[39m\u001b[39m.\u001b[39mexperimental_get_tracing_count()\n\u001b[0;32m    897\u001b[0m without_tracing \u001b[39m=\u001b[39m (tracing_count \u001b[39m==\u001b[39m new_tracing_count)\n",
      "File \u001b[1;32mc:\\Users\\juju_\\AppData\\Local\\Programs\\Python\\Python310\\lib\\site-packages\\tensorflow\\python\\eager\\polymorphic_function\\polymorphic_function.py:926\u001b[0m, in \u001b[0;36mFunction._call\u001b[1;34m(self, *args, **kwds)\u001b[0m\n\u001b[0;32m    923\u001b[0m   \u001b[39mself\u001b[39m\u001b[39m.\u001b[39m_lock\u001b[39m.\u001b[39mrelease()\n\u001b[0;32m    924\u001b[0m   \u001b[39m# In this case we have created variables on the first call, so we run the\u001b[39;00m\n\u001b[0;32m    925\u001b[0m   \u001b[39m# defunned version which is guaranteed to never create variables.\u001b[39;00m\n\u001b[1;32m--> 926\u001b[0m   \u001b[39mreturn\u001b[39;00m \u001b[39mself\u001b[39m\u001b[39m.\u001b[39m_no_variable_creation_fn(\u001b[39m*\u001b[39margs, \u001b[39m*\u001b[39m\u001b[39m*\u001b[39mkwds)  \u001b[39m# pylint: disable=not-callable\u001b[39;00m\n\u001b[0;32m    927\u001b[0m \u001b[39melif\u001b[39;00m \u001b[39mself\u001b[39m\u001b[39m.\u001b[39m_variable_creation_fn \u001b[39mis\u001b[39;00m \u001b[39mnot\u001b[39;00m \u001b[39mNone\u001b[39;00m:\n\u001b[0;32m    928\u001b[0m   \u001b[39m# Release the lock early so that multiple threads can perform the call\u001b[39;00m\n\u001b[0;32m    929\u001b[0m   \u001b[39m# in parallel.\u001b[39;00m\n\u001b[0;32m    930\u001b[0m   \u001b[39mself\u001b[39m\u001b[39m.\u001b[39m_lock\u001b[39m.\u001b[39mrelease()\n",
      "File \u001b[1;32mc:\\Users\\juju_\\AppData\\Local\\Programs\\Python\\Python310\\lib\\site-packages\\tensorflow\\python\\eager\\polymorphic_function\\tracing_compiler.py:143\u001b[0m, in \u001b[0;36mTracingCompiler.__call__\u001b[1;34m(self, *args, **kwargs)\u001b[0m\n\u001b[0;32m    140\u001b[0m \u001b[39mwith\u001b[39;00m \u001b[39mself\u001b[39m\u001b[39m.\u001b[39m_lock:\n\u001b[0;32m    141\u001b[0m   (concrete_function,\n\u001b[0;32m    142\u001b[0m    filtered_flat_args) \u001b[39m=\u001b[39m \u001b[39mself\u001b[39m\u001b[39m.\u001b[39m_maybe_define_function(args, kwargs)\n\u001b[1;32m--> 143\u001b[0m \u001b[39mreturn\u001b[39;00m concrete_function\u001b[39m.\u001b[39;49m_call_flat(\n\u001b[0;32m    144\u001b[0m     filtered_flat_args, captured_inputs\u001b[39m=\u001b[39;49mconcrete_function\u001b[39m.\u001b[39;49mcaptured_inputs)\n",
      "File \u001b[1;32mc:\\Users\\juju_\\AppData\\Local\\Programs\\Python\\Python310\\lib\\site-packages\\tensorflow\\python\\eager\\polymorphic_function\\monomorphic_function.py:1757\u001b[0m, in \u001b[0;36mConcreteFunction._call_flat\u001b[1;34m(self, args, captured_inputs, cancellation_manager)\u001b[0m\n\u001b[0;32m   1753\u001b[0m possible_gradient_type \u001b[39m=\u001b[39m gradients_util\u001b[39m.\u001b[39mPossibleTapeGradientTypes(args)\n\u001b[0;32m   1754\u001b[0m \u001b[39mif\u001b[39;00m (possible_gradient_type \u001b[39m==\u001b[39m gradients_util\u001b[39m.\u001b[39mPOSSIBLE_GRADIENT_TYPES_NONE\n\u001b[0;32m   1755\u001b[0m     \u001b[39mand\u001b[39;00m executing_eagerly):\n\u001b[0;32m   1756\u001b[0m   \u001b[39m# No tape is watching; skip to running the function.\u001b[39;00m\n\u001b[1;32m-> 1757\u001b[0m   \u001b[39mreturn\u001b[39;00m \u001b[39mself\u001b[39m\u001b[39m.\u001b[39m_build_call_outputs(\u001b[39mself\u001b[39;49m\u001b[39m.\u001b[39;49m_inference_function\u001b[39m.\u001b[39;49mcall(\n\u001b[0;32m   1758\u001b[0m       ctx, args, cancellation_manager\u001b[39m=\u001b[39;49mcancellation_manager))\n\u001b[0;32m   1759\u001b[0m forward_backward \u001b[39m=\u001b[39m \u001b[39mself\u001b[39m\u001b[39m.\u001b[39m_select_forward_and_backward_functions(\n\u001b[0;32m   1760\u001b[0m     args,\n\u001b[0;32m   1761\u001b[0m     possible_gradient_type,\n\u001b[0;32m   1762\u001b[0m     executing_eagerly)\n\u001b[0;32m   1763\u001b[0m forward_function, args_with_tangents \u001b[39m=\u001b[39m forward_backward\u001b[39m.\u001b[39mforward()\n",
      "File \u001b[1;32mc:\\Users\\juju_\\AppData\\Local\\Programs\\Python\\Python310\\lib\\site-packages\\tensorflow\\python\\eager\\polymorphic_function\\monomorphic_function.py:381\u001b[0m, in \u001b[0;36m_EagerDefinedFunction.call\u001b[1;34m(self, ctx, args, cancellation_manager)\u001b[0m\n\u001b[0;32m    379\u001b[0m \u001b[39mwith\u001b[39;00m _InterpolateFunctionError(\u001b[39mself\u001b[39m):\n\u001b[0;32m    380\u001b[0m   \u001b[39mif\u001b[39;00m cancellation_manager \u001b[39mis\u001b[39;00m \u001b[39mNone\u001b[39;00m:\n\u001b[1;32m--> 381\u001b[0m     outputs \u001b[39m=\u001b[39m execute\u001b[39m.\u001b[39;49mexecute(\n\u001b[0;32m    382\u001b[0m         \u001b[39mstr\u001b[39;49m(\u001b[39mself\u001b[39;49m\u001b[39m.\u001b[39;49msignature\u001b[39m.\u001b[39;49mname),\n\u001b[0;32m    383\u001b[0m         num_outputs\u001b[39m=\u001b[39;49m\u001b[39mself\u001b[39;49m\u001b[39m.\u001b[39;49m_num_outputs,\n\u001b[0;32m    384\u001b[0m         inputs\u001b[39m=\u001b[39;49margs,\n\u001b[0;32m    385\u001b[0m         attrs\u001b[39m=\u001b[39;49mattrs,\n\u001b[0;32m    386\u001b[0m         ctx\u001b[39m=\u001b[39;49mctx)\n\u001b[0;32m    387\u001b[0m   \u001b[39melse\u001b[39;00m:\n\u001b[0;32m    388\u001b[0m     outputs \u001b[39m=\u001b[39m execute\u001b[39m.\u001b[39mexecute_with_cancellation(\n\u001b[0;32m    389\u001b[0m         \u001b[39mstr\u001b[39m(\u001b[39mself\u001b[39m\u001b[39m.\u001b[39msignature\u001b[39m.\u001b[39mname),\n\u001b[0;32m    390\u001b[0m         num_outputs\u001b[39m=\u001b[39m\u001b[39mself\u001b[39m\u001b[39m.\u001b[39m_num_outputs,\n\u001b[1;32m   (...)\u001b[0m\n\u001b[0;32m    393\u001b[0m         ctx\u001b[39m=\u001b[39mctx,\n\u001b[0;32m    394\u001b[0m         cancellation_manager\u001b[39m=\u001b[39mcancellation_manager)\n",
      "File \u001b[1;32mc:\\Users\\juju_\\AppData\\Local\\Programs\\Python\\Python310\\lib\\site-packages\\tensorflow\\python\\eager\\execute.py:52\u001b[0m, in \u001b[0;36mquick_execute\u001b[1;34m(op_name, num_outputs, inputs, attrs, ctx, name)\u001b[0m\n\u001b[0;32m     50\u001b[0m \u001b[39mtry\u001b[39;00m:\n\u001b[0;32m     51\u001b[0m   ctx\u001b[39m.\u001b[39mensure_initialized()\n\u001b[1;32m---> 52\u001b[0m   tensors \u001b[39m=\u001b[39m pywrap_tfe\u001b[39m.\u001b[39;49mTFE_Py_Execute(ctx\u001b[39m.\u001b[39;49m_handle, device_name, op_name,\n\u001b[0;32m     53\u001b[0m                                       inputs, attrs, num_outputs)\n\u001b[0;32m     54\u001b[0m \u001b[39mexcept\u001b[39;00m core\u001b[39m.\u001b[39m_NotOkStatusException \u001b[39mas\u001b[39;00m e:\n\u001b[0;32m     55\u001b[0m   \u001b[39mif\u001b[39;00m name \u001b[39mis\u001b[39;00m \u001b[39mnot\u001b[39;00m \u001b[39mNone\u001b[39;00m:\n",
      "\u001b[1;31mKeyboardInterrupt\u001b[0m: "
     ]
    }
   ],
   "source": [
    "melhor_acc = 0\n",
    "melhor_layer = 0\n",
    "for layer in conv_layers_list:\n",
    "    fold_no = 1 #contador\n",
    "    acc_per_fold = [] #acurácia de cada fold\n",
    "    for train, test in cv.split(train_images, train_labels): #pra cada fold\n",
    "        print(f\"Treinando fold {fold_no}, com {layer} camada(s) de convolução-pooling\" )\n",
    "        train_X = train_images[train]\n",
    "        test_X = train_images[test]\n",
    "        model = criar_modelo(layer, filters, dense_size)\n",
    "        model.fit(train_X, train_labels[train], epochs=5, batch_size = 64, verbose=2)\n",
    "        test_loss, test_acc = model.evaluate(test_X, train_labels[test])\n",
    "        acc_per_fold.append(test_acc * 100)\n",
    "        fold_no = fold_no + 1\n",
    "\n",
    "    media_acc_layer = sum(acc_per_fold)/len(acc_per_fold)\n",
    "\n",
    "    print(f\"Média acurácia dos 5 folds pra {layer} camada(s) de convolução-pooling:\", media_acc_layer)\n",
    "    print(f\"Essa acurácia significa que o modelo usando {layer} camada(s) de convolução-pooling, filter: {filters} e tamanho da camada densa: {dense_size} é capaz de classificar corretamente em média {round(media_acc_layer, 1)}%  das imagens\")\n",
    "    if media_acc_layer > melhor_acc:\n",
    "        melhor_acc = media_acc_layer\n",
    "        melhor_layer = layer\n",
    "print(f\"Portanto, a melhor quantidade de camada(s) de convolução-pooling é {melhor_layer}, que possui {round(melhor_acc, 1)} de acurácia.\")"
   ]
  },
  {
   "cell_type": "code",
   "execution_count": 12,
   "metadata": {},
   "outputs": [
    {
     "name": "stdout",
     "output_type": "stream",
     "text": [
      "Treinando fold 1\n",
      "Epoch 1/2\n",
      "469/469 [==============================] - 16s 33ms/step - loss: 0.5317 - accuracy: 0.8104\n",
      "Epoch 2/2\n",
      "469/469 [==============================] - 15s 32ms/step - loss: 0.3443 - accuracy: 0.8775\n",
      "938/938 [==============================] - 7s 7ms/step - loss: 0.3257 - accuracy: 0.8843\n",
      "Treinando fold 2\n",
      "Epoch 1/2\n",
      "469/469 [==============================] - 13s 26ms/step - loss: 0.5492 - accuracy: 0.8063\n",
      "Epoch 2/2\n",
      "469/469 [==============================] - 11s 24ms/step - loss: 0.3483 - accuracy: 0.8759\n",
      "938/938 [==============================] - 5s 5ms/step - loss: 0.3317 - accuracy: 0.8830\n",
      "Média acurácia dos 5 folds pra 1 camada(s) de convolução-pooling: 88.36333453655243\n",
      "Essa acurácia significa que o modelo usando 1 camada(s) de convolução-pooling, filter: 32 e tamanho da camada densa: 64 é capaz de classificar corretamente em média 88.4%  das imagens\n",
      "Treinando fold 1\n",
      "Epoch 1/2\n",
      "469/469 [==============================] - 21s 42ms/step - loss: 0.5931 - accuracy: 0.7852\n",
      "Epoch 2/2\n",
      "469/469 [==============================] - 20s 44ms/step - loss: 0.3759 - accuracy: 0.8625\n",
      "938/938 [==============================] - 8s 9ms/step - loss: 0.3685 - accuracy: 0.8675\n",
      "Treinando fold 2\n",
      "Epoch 1/2\n",
      "469/469 [==============================] - 23s 45ms/step - loss: 0.5711 - accuracy: 0.7934\n",
      "Epoch 2/2\n",
      "469/469 [==============================] - 22s 47ms/step - loss: 0.3601 - accuracy: 0.8711\n",
      "938/938 [==============================] - 9s 9ms/step - loss: 0.3669 - accuracy: 0.8674\n",
      "Média acurácia dos 5 folds pra 2 camada(s) de convolução-pooling: 86.74666583538055\n",
      "Essa acurácia significa que o modelo usando 2 camada(s) de convolução-pooling, filter: 32 e tamanho da camada densa: 64 é capaz de classificar corretamente em média 86.7%  das imagens\n",
      "Treinando fold 1\n",
      "Epoch 1/2\n",
      "469/469 [==============================] - 29s 58ms/step - loss: 0.7333 - accuracy: 0.7307\n",
      "Epoch 2/2\n",
      "469/469 [==============================] - 25s 53ms/step - loss: 0.4401 - accuracy: 0.8395\n",
      "938/938 [==============================] - 9s 9ms/step - loss: 0.3858 - accuracy: 0.8594\n",
      "Treinando fold 2\n",
      "Epoch 1/2\n",
      "469/469 [==============================] - 23s 45ms/step - loss: 0.7116 - accuracy: 0.7368\n",
      "Epoch 2/2\n",
      "469/469 [==============================] - 22s 48ms/step - loss: 0.4243 - accuracy: 0.8447\n",
      "938/938 [==============================] - 9s 10ms/step - loss: 0.3768 - accuracy: 0.8650\n",
      "Média acurácia dos 5 folds pra 3 camada(s) de convolução-pooling: 86.22166812419891\n",
      "Essa acurácia significa que o modelo usando 3 camada(s) de convolução-pooling, filter: 32 e tamanho da camada densa: 64 é capaz de classificar corretamente em média 86.2%  das imagens\n",
      "Portanto, a melhor layer é a 1, que possui 88.4 de acurácia.\n"
     ]
    }
   ],
   "source": [
    "melhor_acc = 0\n",
    "melhor_layer = 0\n",
    "for layer in conv_layers_list:\n",
    "    fold_no = 1 #contador\n",
    "    acc_per_fold = [] #acurácia de cada fold\n",
    "    for train, test in cv.split(train_images, train_labels): #pra cada fold\n",
    "        print(f\"Treinando fold {fold_no}, com {layer} camada(s) de convolução-pooling\" )\n",
    "        train_X = train_images[train]\n",
    "        test_X = train_images[test]\n",
    "        model = criar_modelo(layer, filters, dense_size)\n",
    "        model.fit(train_X, train_labels[train], epochs=2, batch_size = 64)\n",
    "        test_loss, test_acc = model.evaluate(test_X, train_labels[test])\n",
    "        acc_per_fold.append(test_acc * 100)\n",
    "        fold_no = fold_no + 1\n",
    "\n",
    "    media_acc_layer = sum(acc_per_fold)/len(acc_per_fold)\n",
    "\n",
    "    print(f\"Média acurácia dos 5 folds pra {layer} camada(s) de convolução-pooling:\", media_acc_layer)\n",
    "    print(f\"Essa acurácia significa que o modelo usando {layer} camada(s) de convolução-pooling, filter: {filters} e tamanho da camada densa: {dense_size} é capaz de classificar corretamente em média {round(media_acc_layer, 1)}%  das imagens\")\n",
    "    if media_acc_layer > melhor_acc:\n",
    "        melhor_acc = media_acc_layer\n",
    "        melhor_layer = layer\n",
    "print(f\"Portanto, a melhor quantidade de camada(s) de convolução-pooling é {melhor_layer}, que possui {round(melhor_acc, 1)} de acurácia.\")"
   ]
  },
  {
   "cell_type": "code",
   "execution_count": 14,
   "metadata": {},
   "outputs": [],
   "source": [
    "filters_list = [16, 32, 64]"
   ]
  },
  {
   "cell_type": "code",
   "execution_count": 17,
   "metadata": {},
   "outputs": [
    {
     "name": "stdout",
     "output_type": "stream",
     "text": [
      "Treinando fold 1, com 16 filters\n",
      "Epoch 1/2\n",
      "469/469 [==============================] - 11s 19ms/step - loss: 0.5774 - accuracy: 0.7970\n",
      "Epoch 2/2\n",
      "469/469 [==============================] - 7s 14ms/step - loss: 0.3781 - accuracy: 0.8672\n",
      "938/938 [==============================] - 5s 5ms/step - loss: 0.3486 - accuracy: 0.8776\n",
      "Treinando fold 2, com 16 filters\n",
      "Epoch 1/2\n",
      "469/469 [==============================] - 9s 16ms/step - loss: 0.5536 - accuracy: 0.8062\n",
      "Epoch 2/2\n",
      "469/469 [==============================] - 8s 17ms/step - loss: 0.3627 - accuracy: 0.8718\n",
      "938/938 [==============================] - 5s 5ms/step - loss: 0.3470 - accuracy: 0.8801\n",
      "Média acurácia dos 5 folds pra 16 filters: 87.88666725158691\n",
      "Essa acurácia significa que o modelo usando 1 camada(s) de convolução-pooling, filter: 16 e tamanho da camada densa: 64 é capaz de classificar corretamente em média 87.9% das imagens\n",
      "Treinando fold 1, com 32 filters\n",
      "Epoch 1/2\n",
      "469/469 [==============================] - 15s 30ms/step - loss: 0.5523 - accuracy: 0.8075\n",
      "Epoch 2/2\n",
      "469/469 [==============================] - 14s 29ms/step - loss: 0.3500 - accuracy: 0.8757\n",
      "938/938 [==============================] - 8s 8ms/step - loss: 0.3160 - accuracy: 0.8889\n",
      "Treinando fold 2, com 32 filters\n",
      "Epoch 1/2\n",
      "469/469 [==============================] - 15s 30ms/step - loss: 0.5394 - accuracy: 0.8117\n",
      "Epoch 2/2\n",
      "469/469 [==============================] - 14s 30ms/step - loss: 0.3356 - accuracy: 0.8802\n",
      "938/938 [==============================] - 7s 7ms/step - loss: 0.3297 - accuracy: 0.8836\n",
      "Média acurácia dos 5 folds pra 32 filters: 88.6266678571701\n",
      "Essa acurácia significa que o modelo usando 1 camada(s) de convolução-pooling, filter: 32 e tamanho da camada densa: 64 é capaz de classificar corretamente em média 88.6% das imagens\n",
      "Treinando fold 1, com 64 filters\n",
      "Epoch 1/2\n",
      "469/469 [==============================] - 23s 47ms/step - loss: 0.5191 - accuracy: 0.8136\n",
      "Epoch 2/2\n",
      "469/469 [==============================] - 25s 54ms/step - loss: 0.3307 - accuracy: 0.8823\n",
      "938/938 [==============================] - 11s 11ms/step - loss: 0.3369 - accuracy: 0.8811\n",
      "Treinando fold 2, com 64 filters\n",
      "Epoch 1/2\n",
      "469/469 [==============================] - 27s 54ms/step - loss: 0.5362 - accuracy: 0.8116\n",
      "Epoch 2/2\n",
      "469/469 [==============================] - 23s 50ms/step - loss: 0.3360 - accuracy: 0.8798\n",
      "938/938 [==============================] - 9s 9ms/step - loss: 0.3153 - accuracy: 0.8878\n",
      "Média acurácia dos 5 folds pra 64 filters: 88.44499886035919\n",
      "Essa acurácia significa que o modelo usando 1 camada(s) de convolução-pooling, filter: 64 e tamanho da camada densa: 64 é capaz de classificar corretamente em média 88.4% das imagens\n",
      "Portanto, a melhor quantidade de filters é 32, que possui 88.6 de acurácia.\n"
     ]
    }
   ],
   "source": [
    "melhor_acc = 0\n",
    "melhor_filter = 0\n",
    "for filters in filters_list:\n",
    "    fold_no = 1 #contador\n",
    "    acc_per_fold = [] #acurácia de cada fold\n",
    "    for train, test in cv.split(train_images, train_labels):\n",
    "        print(f\"Treinando fold {fold_no}, com {filters} filters\" )\n",
    "        train_X = train_images[train]\n",
    "        test_X = train_images[test]\n",
    "        model = criar_modelo(melhor_layer, filters, dense_size)\n",
    "        model.fit(train_X, train_labels[train], epochs=2, batch_size = 64)\n",
    "        test_loss, test_acc = model.evaluate(test_X, train_labels[test])\n",
    "        acc_per_fold.append(test_acc * 100)\n",
    "        fold_no = fold_no + 1\n",
    "\n",
    "    media_acc_filters = sum(acc_per_fold)/len(acc_per_fold)\n",
    "\n",
    "    print(f\"Média acurácia dos 5 folds pra {filters} filters:\", media_acc_filters)\n",
    "    print(f\"Essa acurácia significa que o modelo usando {melhor_layer} camada(s) de convolução-pooling, filter: {filters} e tamanho da camada densa: {dense_size} é capaz de classificar corretamente em média {round(media_acc_filters, 1)}% das imagens\")\n",
    "    if media_acc_filters > melhor_acc:\n",
    "        melhor_acc = media_acc_filters\n",
    "        melhor_filter = filters\n",
    "print(f\"Portanto, a melhor quantidade de filters é {melhor_filter}, que possui {round(melhor_acc, 1)} de acurácia.\")"
   ]
  },
  {
   "cell_type": "code",
   "execution_count": 20,
   "metadata": {},
   "outputs": [],
   "source": [
    "dense_size_list = [64, 128, 256]"
   ]
  },
  {
   "cell_type": "code",
   "execution_count": 21,
   "metadata": {},
   "outputs": [
    {
     "name": "stdout",
     "output_type": "stream",
     "text": [
      "Treinando fold 1, com tamanho da camada densa: 64\n",
      "Epoch 1/2\n",
      "469/469 [==============================] - 13s 24ms/step - loss: 0.5476 - accuracy: 0.8054\n",
      "Epoch 2/2\n",
      "469/469 [==============================] - 12s 26ms/step - loss: 0.3500 - accuracy: 0.8773\n",
      "938/938 [==============================] - 4s 4ms/step - loss: 0.3296 - accuracy: 0.8817\n",
      "Treinando fold 2, com tamanho da camada densa: 64\n",
      "Epoch 1/2\n",
      "469/469 [==============================] - 11s 22ms/step - loss: 0.5275 - accuracy: 0.8143\n",
      "Epoch 2/2\n",
      "469/469 [==============================] - 12s 26ms/step - loss: 0.3324 - accuracy: 0.8827\n",
      "938/938 [==============================] - 6s 6ms/step - loss: 0.3275 - accuracy: 0.8856\n",
      "Média acurácia dos 5 folds pra tamanho da camada densa: 64: 88.36666643619537\n",
      "Essa acurácia significa que o modelo usando 1 camada(s) de convolução-pooling, filter: 32 e tamanho da camada densa: 64 é capaz de classificar corretamente em média 88.4% das imagens\n",
      "Treinando fold 1, com tamanho da camada densa: 128\n",
      "Epoch 1/2\n",
      "469/469 [==============================] - 18s 36ms/step - loss: 0.5116 - accuracy: 0.8204\n",
      "Epoch 2/2\n",
      "469/469 [==============================] - 17s 35ms/step - loss: 0.3264 - accuracy: 0.8829\n",
      "938/938 [==============================] - 8s 8ms/step - loss: 0.3196 - accuracy: 0.8889\n",
      "Treinando fold 2, com tamanho da camada densa: 128\n",
      "Epoch 1/2\n",
      "469/469 [==============================] - 18s 36ms/step - loss: 0.5152 - accuracy: 0.8188\n",
      "Epoch 2/2\n",
      "469/469 [==============================] - 18s 38ms/step - loss: 0.3264 - accuracy: 0.8818\n",
      "938/938 [==============================] - 6s 6ms/step - loss: 0.3273 - accuracy: 0.8836\n",
      "Média acurácia dos 5 folds pra tamanho da camada densa: 128: 88.62166702747345\n",
      "Essa acurácia significa que o modelo usando 1 camada(s) de convolução-pooling, filter: 32 e tamanho da camada densa: 128 é capaz de classificar corretamente em média 88.6% das imagens\n",
      "Treinando fold 1, com tamanho da camada densa: 256\n",
      "Epoch 1/2\n",
      "469/469 [==============================] - 20s 42ms/step - loss: 0.4956 - accuracy: 0.8260\n",
      "Epoch 2/2\n",
      "469/469 [==============================] - 20s 42ms/step - loss: 0.3218 - accuracy: 0.8853\n",
      "938/938 [==============================] - 8s 8ms/step - loss: 0.3301 - accuracy: 0.8811\n",
      "Treinando fold 2, com tamanho da camada densa: 256\n",
      "Epoch 1/2\n",
      "469/469 [==============================] - 21s 40ms/step - loss: 0.5034 - accuracy: 0.8221\n",
      "Epoch 2/2\n",
      "469/469 [==============================] - 19s 40ms/step - loss: 0.3189 - accuracy: 0.8863\n",
      "938/938 [==============================] - 8s 8ms/step - loss: 0.3199 - accuracy: 0.8847\n",
      "Média acurácia dos 5 folds pra tamanho da camada densa: 256: 88.28833401203156\n",
      "Essa acurácia significa que o modelo usando 1 camada(s) de convolução-pooling, filter: 32 e tamanho da camada densa: 256 é capaz de classificar corretamente em média 88.3% das imagens\n",
      "Portanto, o melhor tamanho da camada densa é 1, que possui 88.6 de acurácia.\n"
     ]
    }
   ],
   "source": [
    "melhor_acc = 0\n",
    "melhor_dense = 0\n",
    "for dense_size in dense_size_list:\n",
    "    fold_no = 1 #contador\n",
    "    acc_per_fold = [] #acurácia de cada fold\n",
    "    for train, test in cv.split(train_images, train_labels): #pra cada fold\n",
    "        print(f\"Treinando fold {fold_no}, com tamanho da camada densa: {dense_size}\" )\n",
    "        train_X = train_images[train]\n",
    "        test_X = train_images[test]\n",
    "        model = criar_modelo(melhor_layer, melhor_filter, dense_size)\n",
    "        model.fit(train_X, train_labels[train], epochs=2, batch_size = 64)\n",
    "        test_loss, test_acc = model.evaluate(test_X, train_labels[test])\n",
    "        acc_per_fold.append(test_acc * 100)\n",
    "        fold_no = fold_no + 1\n",
    "\n",
    "    media_acc_dense = sum(acc_per_fold)/len(acc_per_fold)\n",
    "\n",
    "    print(f\"Média acurácia dos 5 folds pra tamanho da camada densa: {dense_size}:\", media_acc_dense)\n",
    "    print(f\"Essa acurácia significa que o modelo usando {melhor_layer} camada(s) de convolução-pooling, filter: {melhor_filter} e tamanho da camada densa: {dense_size} é capaz de classificar corretamente em média {round(media_acc_dense, 1)}% das imagens\")\n",
    "    if media_acc_dense > melhor_acc:\n",
    "        melhor_acc = media_acc_dense\n",
    "        melhor_dense = dense_size\n",
    "print(f\"Portanto, o melhor tamanho da camada densa é {melhor_dense}, que possui {round(melhor_acc, 1)} de acurácia.\")"
   ]
  },
  {
   "cell_type": "code",
   "execution_count": 26,
   "metadata": {},
   "outputs": [
    {
     "name": "stdout",
     "output_type": "stream",
     "text": [
      "Ao final, a melhor combinação foi: \n",
      "1 camada(s) de convolução-pooling, 32 filter(s) e tamanho da camada densa: 128\n"
     ]
    }
   ],
   "source": [
    "print(f\"Ao final, a melhor combinação foi: \\n{melhor_layer} camada(s) de convolução-pooling, {melhor_filter} filter(s) e tamanho da camada densa: {melhor_dense}\")"
   ]
  },
  {
   "attachments": {},
   "cell_type": "markdown",
   "metadata": {},
   "source": [
    "O que é dropout? Avalie diferentes porcentagens de dropout. Quanto dropout é melhor?\n",
    "\n",
    "O Dropout é uma técnica de regularização utilizada para reduzir o overfitting em redes neurais. Durante o treinamento, uma proporção dos neurônios é aleatoriamente \"desligada\" (dropout) em cada atualização do gradiente, o que força a rede a aprender recursos mais robustos e evita a dependência excessiva de neurônios específicos.\n",
    "\n",
    "Vamos modificar a função create_cnn_model_with_dense_size para adicionar uma camada Dropout antes da camada densa:"
   ]
  },
  {
   "cell_type": "code",
   "execution_count": 27,
   "metadata": {},
   "outputs": [],
   "source": [
    "def criar_modelo_com_dropout(conv_layers, filters, dense_size, dropout_rate):\n",
    "    model = models.Sequential()\n",
    "\n",
    "    for i in range(conv_layers):\n",
    "        model.add(layers.Conv2D(filters=filters, kernel_size=(3, 3), strides=(1, 1), padding='same', activation='relu', input_shape = (28,28,1)))\n",
    "        print(\"Conv2D\")\n",
    "        model.add(layers.MaxPooling2D(pool_size=(2, 2)))\n",
    "        print(\"MaxPooling2D\")\n",
    "\n",
    "    model.add(layers.Flatten())\n",
    "    model.add(layers.Dense(dense_size, activation='relu'))\n",
    "    model.add(layers.Dropout(dropout_rate)) #Dropout adicionado\n",
    "    model.add(layers.Dense(10, activation='softmax'))\n",
    "    \n",
    "    model.compile(optimizer = 'rmsprop', loss = 'categorical_crossentropy', metrics = ['accuracy'])\n",
    "    return model"
   ]
  },
  {
   "cell_type": "code",
   "execution_count": 28,
   "metadata": {},
   "outputs": [
    {
     "name": "stdout",
     "output_type": "stream",
     "text": [
      "Treinando fold 1, com 0.1 de dropout_rate\n",
      "Conv2D\n",
      "MaxPooling2D\n",
      "Epoch 1/2\n",
      "469/469 [==============================] - 16s 32ms/step - loss: 0.5306 - accuracy: 0.8137\n",
      "Epoch 2/2\n",
      "469/469 [==============================] - 15s 32ms/step - loss: 0.3378 - accuracy: 0.8801\n",
      "938/938 [==============================] - 6s 6ms/step - loss: 0.3178 - accuracy: 0.8860\n",
      "Treinando fold 2, com 0.1 de dropout_rate\n",
      "Conv2D\n",
      "MaxPooling2D\n",
      "Epoch 1/2\n",
      "469/469 [==============================] - 16s 32ms/step - loss: 0.5218 - accuracy: 0.8168\n",
      "Epoch 2/2\n",
      "469/469 [==============================] - 15s 31ms/step - loss: 0.3269 - accuracy: 0.8822\n",
      "938/938 [==============================] - 6s 6ms/step - loss: 0.3071 - accuracy: 0.8904\n",
      "Média acurácia dos 5 folds pra 0.1 de dropout_rate: 88.81666660308838\n",
      "Essa acurácia significa que o modelo usando layer: 1, filter: 32, tamanho da camada densa: 128 e dropout: 0.1 é capaz de classificar corretamente 8881.7% das imagens\n",
      "Treinando fold 1, com 0.3 de dropout_rate\n",
      "Conv2D\n",
      "MaxPooling2D\n",
      "Epoch 1/2\n",
      "469/469 [==============================] - 16s 33ms/step - loss: 0.5927 - accuracy: 0.7914\n",
      "Epoch 2/2\n",
      "469/469 [==============================] - 16s 33ms/step - loss: 0.3742 - accuracy: 0.8672\n",
      "938/938 [==============================] - 6s 7ms/step - loss: 0.3239 - accuracy: 0.8826\n",
      "Treinando fold 2, com 0.3 de dropout_rate\n",
      "Conv2D\n",
      "MaxPooling2D\n",
      "Epoch 1/2\n",
      "469/469 [==============================] - 16s 32ms/step - loss: 0.5736 - accuracy: 0.7991\n",
      "Epoch 2/2\n",
      "469/469 [==============================] - 15s 33ms/step - loss: 0.3660 - accuracy: 0.8703\n",
      "938/938 [==============================] - 6s 6ms/step - loss: 0.3224 - accuracy: 0.8842\n",
      "Média acurácia dos 5 folds pra 0.3 de dropout_rate: 88.3400022983551\n",
      "Essa acurácia significa que o modelo usando layer: 1, filter: 32, tamanho da camada densa: 128 e dropout: 0.3 é capaz de classificar corretamente 8834.0% das imagens\n",
      "Treinando fold 1, com 0.5 de dropout_rate\n",
      "Conv2D\n",
      "MaxPooling2D\n",
      "Epoch 1/2\n",
      "469/469 [==============================] - 16s 33ms/step - loss: 0.6447 - accuracy: 0.7750\n",
      "Epoch 2/2\n",
      "469/469 [==============================] - 15s 33ms/step - loss: 0.4150 - accuracy: 0.8546\n",
      "938/938 [==============================] - 6s 6ms/step - loss: 0.3302 - accuracy: 0.8814\n",
      "Treinando fold 2, com 0.5 de dropout_rate\n",
      "Conv2D\n",
      "MaxPooling2D\n",
      "Epoch 1/2\n",
      "469/469 [==============================] - 16s 33ms/step - loss: 0.6176 - accuracy: 0.7869\n",
      "Epoch 2/2\n",
      "469/469 [==============================] - 15s 33ms/step - loss: 0.3923 - accuracy: 0.8636\n",
      "938/938 [==============================] - 6s 6ms/step - loss: 0.3251 - accuracy: 0.8830\n",
      "Média acurácia dos 5 folds pra 0.5 de dropout_rate: 88.21666538715363\n",
      "Essa acurácia significa que o modelo usando layer: 1, filter: 32, tamanho da camada densa: 128 e dropout: 0.5 é capaz de classificar corretamente 8821.7% das imagens\n",
      "Treinando fold 1, com 0.7 de dropout_rate\n",
      "Conv2D\n",
      "MaxPooling2D\n",
      "Epoch 1/2\n",
      "469/469 [==============================] - 17s 34ms/step - loss: 0.8142 - accuracy: 0.7131\n",
      "Epoch 2/2\n",
      "469/469 [==============================] - 16s 34ms/step - loss: 0.5342 - accuracy: 0.8164\n",
      "938/938 [==============================] - 7s 7ms/step - loss: 0.3656 - accuracy: 0.8701\n",
      "Treinando fold 2, com 0.7 de dropout_rate\n",
      "Conv2D\n",
      "MaxPooling2D\n",
      "Epoch 1/2\n",
      "469/469 [==============================] - 16s 33ms/step - loss: 0.7365 - accuracy: 0.7481\n",
      "Epoch 2/2\n",
      "469/469 [==============================] - 14s 31ms/step - loss: 0.4797 - accuracy: 0.8348\n",
      "938/938 [==============================] - 6s 6ms/step - loss: 0.3629 - accuracy: 0.8706\n",
      "Média acurácia dos 5 folds pra 0.7 de dropout_rate: 87.03833222389221\n",
      "Essa acurácia significa que o modelo usando layer: 1, filter: 32, tamanho da camada densa: 128 e dropout: 0.7 é capaz de classificar corretamente 8703.8% das imagens\n",
      "Portanto, a melhor quantidade de camada(s) de convolução-pooling é 0.1, que possui 88.8 de acurácia.\n"
     ]
    }
   ],
   "source": [
    "dropout_rates = [0.1, 0.3, 0.5, 0.7]\n",
    "\n",
    "melhor_acc = 0\n",
    "melhor_dropout = 0\n",
    "for dropout_rate in dropout_rates:\n",
    "    fold_no = 1 #contador\n",
    "    acc_per_fold = [] #acurácia de cada fold\n",
    "    for train, test in cv.split(train_images, train_labels): #pra cada fold\n",
    "        print(f\"Treinando fold {fold_no}, com {dropout_rate} de dropout_rate\" )\n",
    "        train_X = train_images[train]\n",
    "        test_X = train_images[test]\n",
    "        model = criar_modelo_com_dropout(melhor_layer, melhor_filter, melhor_dense, dropout_rate)\n",
    "        model.fit(train_X, train_labels[train], epochs=2, batch_size = 64)\n",
    "        test_loss, test_acc = model.evaluate(test_X, train_labels[test])\n",
    "        acc_per_fold.append(test_acc * 100)\n",
    "        fold_no = fold_no + 1\n",
    "\n",
    "    media_acc_dropout = sum(acc_per_fold)/len(acc_per_fold)\n",
    "\n",
    "    print(f\"Média acurácia dos 5 folds pra {dropout_rate} de dropout_rate:\", media_acc_dropout)\n",
    "    print(f\"Essa acurácia significa que o modelo usando layer: {melhor_layer}, filter: {melhor_filter}, tamanho da camada densa: {melhor_dense} e dropout: {dropout_rate} é capaz de classificar corretamente em média {round(media_acc_dropout, 1)}% das imagens\")\n",
    "    if media_acc_dropout > melhor_acc:\n",
    "        melhor_acc = media_acc_dropout\n",
    "        melhor_dropout = dropout_rate\n",
    "print(f\"Portanto, o melhor dropout é {melhor_dropout}, que possui {round(melhor_acc, 1)} de acurácia.\")"
   ]
  },
  {
   "attachments": {},
   "cell_type": "markdown",
   "metadata": {},
   "source": [
    "E. O que é batch normalization? Aplique batch normalization e avalie como ela ajuda?\n",
    "\n",
    "Batch Normalization é uma técnica usada para acelerar o treinamento de redes neurais e estabilizar o processo de aprendizado. Ela normaliza a ativação de cada camada, aplicando uma transformação que mantém a média próxima de zero e o desvio padrão próximo de um. Isso ajuda a reduzir a covariância de ativação entre as camadas e torna o treinamento mais rápido e estável.\n",
    "\n",
    "Vamos modificar a função create_cnn_model_with_dense_dropout para adicionar uma camada Batch Normalization antes da camada densa:"
   ]
  },
  {
   "cell_type": "code",
   "execution_count": 29,
   "metadata": {},
   "outputs": [],
   "source": [
    "# Definir a arquitetura da CNN\n",
    "def criar_modelo_com_batchnorm(conv_layers, filters, dense_size, dropout_rate):\n",
    "    model = models.Sequential()\n",
    "\n",
    "    # Adicionar camadas de convolução-pooling\n",
    "    for i in range(conv_layers):\n",
    "        model.add(layers.Conv2D(filters=filters, kernel_size=(3, 3), strides=(1, 1), padding='same', activation='relu', input_shape = (28,28,1)))\n",
    "        print(\"Conv2D\")\n",
    "        model.add(layers.MaxPooling2D(pool_size=(2, 2)))\n",
    "        print(\"MaxPooling2D\")\n",
    "\n",
    "\n",
    "    model.add(layers.Flatten())\n",
    "    model.add(layers.Dense(dense_size, activation='relu'))\n",
    "    model.add(layers.BatchNormalization())\n",
    "    model.add(layers.Dropout(dropout_rate))\n",
    "    model.add(layers.Dense(10, activation='softmax')) # 10 é o número de classes\n",
    "    \n",
    "    model.compile(optimizer = 'rmsprop', loss = 'categorical_crossentropy', metrics = ['accuracy'])\n",
    "    return model"
   ]
  },
  {
   "cell_type": "code",
   "execution_count": 30,
   "metadata": {},
   "outputs": [
    {
     "name": "stdout",
     "output_type": "stream",
     "text": [
      "Treinando fold 1, com batchnorm\n",
      "Conv2D\n",
      "MaxPooling2D\n",
      "Epoch 1/2\n",
      "469/469 [==============================] - 18s 34ms/step - loss: 0.4344 - accuracy: 0.8477\n",
      "Epoch 2/2\n",
      "469/469 [==============================] - 15s 32ms/step - loss: 0.2911 - accuracy: 0.8971\n",
      "938/938 [==============================] - 7s 7ms/step - loss: 0.2969 - accuracy: 0.8916\n",
      "Treinando fold 2, com batchnorm\n",
      "Conv2D\n",
      "MaxPooling2D\n",
      "Epoch 1/2\n",
      "469/469 [==============================] - 16s 32ms/step - loss: 0.4139 - accuracy: 0.8546\n",
      "Epoch 2/2\n",
      "469/469 [==============================] - 16s 35ms/step - loss: 0.2741 - accuracy: 0.9023\n",
      "938/938 [==============================] - 7s 7ms/step - loss: 0.2974 - accuracy: 0.8944\n",
      "Média acurácia dos 5 folds com batchnorm 89.3016666173935\n",
      "Essa acurácia significa que o modelo usando layer: 1, filter: 32, tamanho da camada densa: 128 e dropout: 0.1 é capaz de classificar corretamente em média 89.3% das imagens\n",
      "Portanto, possui em média 8930.2 de acurácia.\n"
     ]
    }
   ],
   "source": [
    "fold_no = 1 #contador\n",
    "acc_per_fold = [] #acurácia de cada fold\n",
    "for train, test in cv.split(train_images, train_labels): #pra cada fold\n",
    "    print(f\"Treinando fold {fold_no}, com batch normalization\" )\n",
    "    train_X = train_images[train]\n",
    "    test_X = train_images[test]\n",
    "    model = criar_modelo_com_batchnorm(melhor_layer, melhor_filter, melhor_dense, melhor_dropout)\n",
    "    model.fit(train_X, train_labels[train], epochs=2, batch_size = 64)\n",
    "    test_loss, test_acc = model.evaluate(test_X, train_labels[test])\n",
    "    acc_per_fold.append(test_acc * 100)\n",
    "    fold_no = fold_no + 1\n",
    "\n",
    "media_acc_batchnorm = sum(acc_per_fold)/len(acc_per_fold)\n",
    "\n",
    "print(f\"Média acurácia dos 5 folds com batch normalization:\", media_acc_batchnorm)\n",
    "print(f\"Essa acurácia significa que o modelo usando layer: {melhor_layer}, filter: {melhor_filter}, tamanho da camada densa: {melhor_dense}, dropout: {melhor_dropout} e com batch normalization é capaz de classificar corretamente em média {round(media_acc_batchnorm, 1)}% das imagens\")\n",
    "\n",
    "print(f\"Portanto, possui em média {round(media_acc_batchnorm, 1)} de acurácia.\")"
   ]
  },
  {
   "attachments": {},
   "cell_type": "markdown",
   "metadata": {},
   "source": [
    "F. O que é data augmentation? Aplique data augmentation e avalie como ele ajuda?\n",
    "\n",
    "Data Augmentation é uma técnica usada para expandir o conjunto de dados de treinamento, aplicando transformações aleatórias nos dados existentes, como rotação, zoom, espelhamento, deslocamento, entre outros. Essa técnica é útil quando o conjunto de dados de treinamento é limitado, pois permite aumentar a diversidade dos exemplos apresentados ao modelo.\n",
    "\n",
    "Vamos usar a biblioteca imgaug para aplicar Data Augmentation no conjunto de dados Fashion MNIST. Primeiro, instale a biblioteca usando o seguinte comando: pip install imgaug"
   ]
  },
  {
   "cell_type": "code",
   "execution_count": null,
   "metadata": {},
   "outputs": [],
   "source": [
    "fold_no = 1 #contador\n",
    "acc_per_fold = [] #acurácia de cada fold\n",
    "for train, test in cv.split(train_images, train_labels): #pra cada fold\n",
    "    print(f\"Treinando fold {fold_no}, com batch normalization\" )\n",
    "    train_X = train_images[train]\n",
    "    test_X = train_images[test]\n",
    "    model = criar_modelo_com_batchnorm(melhor_layer, melhor_filter, melhor_dense, melhor_dropout)\n",
    "    model.fit(train_X, train_labels[train], epochs=2, batch_size = 64)\n",
    "    test_loss, test_acc = model.evaluate(test_X, train_labels[test])\n",
    "    acc_per_fold.append(test_acc * 100)\n",
    "    fold_no = fold_no + 1\n",
    "\n",
    "media_acc_batchnorm = sum(acc_per_fold)/len(acc_per_fold)\n",
    "\n",
    "print(f\"Média acurácia dos 5 folds com batch normalization:\", media_acc_batchnorm)\n",
    "print(f\"Essa acurácia significa que o modelo usando layer: {melhor_layer}, filter: {melhor_filter}, tamanho da camada densa: {melhor_dense}, dropout: {melhor_dropout} e com batch normalization é capaz de classificar corretamente em média {round(media_acc_batchnorm, 1)}% das imagens\")\n",
    "\n",
    "print(f\"Portanto, possui em média {round(media_acc_batchnorm, 1)} de acurácia.\")"
   ]
  },
  {
   "cell_type": "code",
   "execution_count": 74,
   "metadata": {},
   "outputs": [
    {
     "name": "stdout",
     "output_type": "stream",
     "text": [
      "Treinando fold 1, com data augmentation\n",
      "Conv2D\n",
      "MaxPooling2D\n",
      "Epoch 1/5\n",
      "1500/1500 - 63s - loss: 0.9008 - accuracy: 0.6712 - val_loss: 0.8022 - val_accuracy: 0.7245 - 63s/epoch - 42ms/step\n",
      "Epoch 2/5\n",
      "1500/1500 - 51s - loss: 0.7341 - accuracy: 0.7281 - val_loss: 0.6429 - val_accuracy: 0.7781 - 51s/epoch - 34ms/step\n",
      "Epoch 3/5\n",
      "1500/1500 - 47s - loss: 0.6909 - accuracy: 0.7430 - val_loss: 0.6192 - val_accuracy: 0.7947 - 47s/epoch - 32ms/step\n",
      "Epoch 4/5\n",
      "1500/1500 - 47s - loss: 0.6665 - accuracy: 0.7531 - val_loss: 0.7742 - val_accuracy: 0.7508 - 47s/epoch - 31ms/step\n",
      "Epoch 5/5\n",
      "1500/1500 - 47s - loss: 0.6536 - accuracy: 0.7590 - val_loss: 0.7196 - val_accuracy: 0.7692 - 47s/epoch - 31ms/step\n",
      "375/375 - 2s - loss: 0.7196 - accuracy: 0.7692 - 2s/epoch - 6ms/step\n",
      "Treinando fold 2, com data augmentation\n",
      "Conv2D\n",
      "MaxPooling2D\n",
      "Epoch 1/5\n",
      "1500/1500 - 48s - loss: 0.9225 - accuracy: 0.6618 - val_loss: 0.6593 - val_accuracy: 0.7562 - 48s/epoch - 32ms/step\n",
      "Epoch 2/5\n",
      "1500/1500 - 48s - loss: 0.7280 - accuracy: 0.7270 - val_loss: 0.7840 - val_accuracy: 0.7149 - 48s/epoch - 32ms/step\n",
      "Epoch 3/5\n",
      "1500/1500 - 47s - loss: 0.6931 - accuracy: 0.7418 - val_loss: 0.5962 - val_accuracy: 0.7857 - 47s/epoch - 31ms/step\n",
      "Epoch 4/5\n",
      "1500/1500 - 47s - loss: 0.6708 - accuracy: 0.7482 - val_loss: 0.5320 - val_accuracy: 0.8172 - 47s/epoch - 31ms/step\n",
      "Epoch 5/5\n",
      "1500/1500 - 46s - loss: 0.6508 - accuracy: 0.7591 - val_loss: 0.5451 - val_accuracy: 0.8103 - 46s/epoch - 31ms/step\n",
      "375/375 - 2s - loss: 0.5451 - accuracy: 0.8103 - 2s/epoch - 6ms/step\n",
      "Treinando fold 3, com data augmentation\n",
      "Conv2D\n",
      "MaxPooling2D\n",
      "Epoch 1/5\n",
      "1500/1500 - 48s - loss: 0.9117 - accuracy: 0.6639 - val_loss: 0.7175 - val_accuracy: 0.7408 - 48s/epoch - 32ms/step\n",
      "Epoch 2/5\n",
      "1500/1500 - 48s - loss: 0.7385 - accuracy: 0.7235 - val_loss: 0.8206 - val_accuracy: 0.7107 - 48s/epoch - 32ms/step\n",
      "Epoch 3/5\n",
      "1500/1500 - 48s - loss: 0.6966 - accuracy: 0.7405 - val_loss: 0.6113 - val_accuracy: 0.7782 - 48s/epoch - 32ms/step\n",
      "Epoch 4/5\n",
      "1500/1500 - 45s - loss: 0.6693 - accuracy: 0.7497 - val_loss: 0.6458 - val_accuracy: 0.7736 - 45s/epoch - 30ms/step\n",
      "Epoch 5/5\n",
      "1500/1500 - 44s - loss: 0.6579 - accuracy: 0.7552 - val_loss: 0.6448 - val_accuracy: 0.7751 - 44s/epoch - 30ms/step\n",
      "375/375 - 2s - loss: 0.6448 - accuracy: 0.7751 - 2s/epoch - 5ms/step\n",
      "Treinando fold 4, com data augmentation\n",
      "Conv2D\n",
      "MaxPooling2D\n",
      "Epoch 1/5\n",
      "1500/1500 - 46s - loss: 0.9226 - accuracy: 0.6594 - val_loss: 0.8585 - val_accuracy: 0.6913 - 46s/epoch - 31ms/step\n",
      "Epoch 2/5\n",
      "1500/1500 - 45s - loss: 0.7357 - accuracy: 0.7273 - val_loss: 0.6446 - val_accuracy: 0.7539 - 45s/epoch - 30ms/step\n",
      "Epoch 3/5\n",
      "1500/1500 - 45s - loss: 0.6926 - accuracy: 0.7430 - val_loss: 0.5609 - val_accuracy: 0.7908 - 45s/epoch - 30ms/step\n",
      "Epoch 4/5\n",
      "1500/1500 - 45s - loss: 0.6678 - accuracy: 0.7504 - val_loss: 0.8233 - val_accuracy: 0.7137 - 45s/epoch - 30ms/step\n",
      "Epoch 5/5\n",
      "1500/1500 - 45s - loss: 0.6567 - accuracy: 0.7555 - val_loss: 0.6979 - val_accuracy: 0.7607 - 45s/epoch - 30ms/step\n",
      "375/375 - 2s - loss: 0.6979 - accuracy: 0.7607 - 2s/epoch - 5ms/step\n",
      "Treinando fold 5, com data augmentation\n",
      "Conv2D\n",
      "MaxPooling2D\n",
      "Epoch 1/5\n",
      "1500/1500 - 47s - loss: 0.9153 - accuracy: 0.6642 - val_loss: 0.6599 - val_accuracy: 0.7592 - 47s/epoch - 32ms/step\n",
      "Epoch 2/5\n",
      "1500/1500 - 58s - loss: 0.7273 - accuracy: 0.7298 - val_loss: 0.7233 - val_accuracy: 0.7451 - 58s/epoch - 38ms/step\n",
      "Epoch 3/5\n",
      "1500/1500 - 55s - loss: 0.6941 - accuracy: 0.7433 - val_loss: 0.6450 - val_accuracy: 0.7842 - 55s/epoch - 37ms/step\n",
      "Epoch 4/5\n",
      "1500/1500 - 46s - loss: 0.6671 - accuracy: 0.7525 - val_loss: 0.8276 - val_accuracy: 0.7246 - 46s/epoch - 31ms/step\n",
      "Epoch 5/5\n",
      "1500/1500 - 45s - loss: 0.6485 - accuracy: 0.7603 - val_loss: 0.7249 - val_accuracy: 0.7639 - 45s/epoch - 30ms/step\n",
      "375/375 - 2s - loss: 0.7249 - accuracy: 0.7639 - 2s/epoch - 5ms/step\n",
      "Média acurácia dos 5 folds com data augmentation: 77.58333325386047\n",
      "Essa acurácia significa que o modelo usando layer: 1, filter: 32, tamanho da camada densa: 128, dropout: 0.1, com batch normalization e com data augmentation é capaz de classificar corretamente em média 77.6% das imagens\n",
      "Portanto, possui em média 77.6 de acurácia.\n"
     ]
    }
   ],
   "source": [
    "from tensorflow.keras.preprocessing.image import ImageDataGenerator\n",
    "\n",
    "# Criar um gerador de data augmentation\n",
    "augmenter = ImageDataGenerator(\n",
    "    rotation_range=20, # podem ser rotacionadas aleatoriamente em um ângulo de -20 a 20 graus\n",
    "    width_shift_range=0.2, # as imagens podem ser deslocadas horizontalmente em até 20% da largura da imagem\n",
    "    height_shift_range=0.2,  # as imagens podem ser deslocadas verticalmente em até 20% da largura da imagem\n",
    "    shear_range=0.2, # as imagens podem ser distorcidas com um valor de cisalhamento aleatório entre -0.2 e 0.2\n",
    "    zoom_range=0.2, # as imagens podem ser ampliadas ou reduzidas em até 20% aleatoriamente.\n",
    "    horizontal_flip=True # imagens podem ser invertidas horizontalmente durante o data augmentation.\n",
    ")\n",
    "\n",
    "# Ajustar o gerador aos dados de treinamento\n",
    "# datagen.fit(train_images.reshape((-1, 28, 28, 1)))\n",
    "\n",
    "fold_no = 1 #contador\n",
    "acc_per_fold = [] #acurácia de cada fold\n",
    "for train, test in cv.split(train_images, train_labels): #pra cada fold\n",
    "    print(f\"Treinando fold {fold_no}, com data augmentation\")\n",
    "    \n",
    "    # Obter os conjuntos de treinamento e teste para o fold atual\n",
    "    train_X, test_X = train_images[train], train_images[test]\n",
    "    train_y, test_y = train_labels[train], train_labels[test]\n",
    "    \n",
    "    # Aplicar o data augmentation aos dados de treinamento\n",
    "    augmenter.fit(train_X)\n",
    "    augmented_train_X = augmenter.flow(train_X, train_y, batch_size=32)\n",
    "\n",
    "    model = criar_modelo_com_batchnorm(melhor_layer, melhor_filter, melhor_dense, melhor_dropout)\n",
    "\n",
    "    model.fit(augmented_train_X, epochs=5, validation_data=(test_X, test_y), verbose=2)\n",
    "\n",
    "    test_loss, test_acc = model.evaluate(test_X, train_labels[test], verbose=2)\n",
    "    acc_per_fold.append(test_acc * 100)\n",
    "    fold_no = fold_no + 1\n",
    "\n",
    "media_acc_dataaug = sum(acc_per_fold)/len(acc_per_fold)\n",
    "\n",
    "print(f\"Média acurácia dos 5 folds com data augmentation:\", media_acc_dataaug)\n",
    "print(f\"Essa acurácia significa que o modelo usando layer: {melhor_layer}, filter: {melhor_filter}, tamanho da camada densa: {melhor_dense}, dropout: {melhor_dropout}, com batch normalization e com data augmentation é capaz de classificar corretamente em média {round(media_acc_dataaug, 1)}% das imagens\")\n",
    "\n",
    "print(f\"Portanto, possui em média {round(media_acc_dataaug, 1)} de acurácia.\")\n",
    "\n",
    "\n",
    "# model = criar_modelo_com_batchnorm(melhor_layer, melhor_filter, melhor_dense, melhor_dropout)\n",
    "\n",
    "# model.fit(\n",
    "#     datagen.flow(train_images.reshape((-1, 28, 28, 1)), train_labels, batch_size=64),\n",
    "#     epochs=5,\n",
    "#     validation_data=(test_images.reshape((-1, 28, 28, 1)), test_labels),\n",
    "#     verbose=2\n",
    "# )\n",
    "\n",
    "# test_loss, test_acc = model.evaluate(test_X, test_y, verbose=2)"
   ]
  },
  {
   "cell_type": "code",
   "execution_count": 75,
   "metadata": {},
   "outputs": [],
   "source": [
    "dct_dataaug = {}\n",
    "media_acc_dataaug = sum(acc_per_fold)/len(acc_per_fold)\n",
    "\n",
    "dct_dataaug.update({\"acuracia\": media_acc_dataaug , \"loss\": 100 })"
   ]
  },
  {
   "cell_type": "code",
   "execution_count": null,
   "metadata": {},
   "outputs": [],
   "source": [
    "dct_dataaug = {}\n",
    "\n",
    "media_acc_dataaug = sum(acc_per_fold)/len(acc_per_fold)\n",
    "media_loss_dataaug  = sum(test_loss)/len(test_loss)\n",
    "\n",
    "dct_dataaug.update({\"acuracia\": media_acc_dataaug , \"loss\": media_loss_dataaug })"
   ]
  },
  {
   "cell_type": "code",
   "execution_count": 65,
   "metadata": {},
   "outputs": [],
   "source": [
    "num_batches = train_images.shape[0] // 32\n",
    "total_augmented_images = num_batches * 32\n"
   ]
  },
  {
   "cell_type": "code",
   "execution_count": 71,
   "metadata": {},
   "outputs": [
    {
     "data": {
      "text/plain": [
       "12000"
      ]
     },
     "execution_count": 71,
     "metadata": {},
     "output_type": "execute_result"
    }
   ],
   "source": [
    "len(test_X)"
   ]
  },
  {
   "cell_type": "code",
   "execution_count": 69,
   "metadata": {},
   "outputs": [
    {
     "data": {
      "text/plain": [
       "1500"
      ]
     },
     "execution_count": 69,
     "metadata": {},
     "output_type": "execute_result"
    }
   ],
   "source": [
    "len(augmented_train_X)"
   ]
  },
  {
   "cell_type": "code",
   "execution_count": 48,
   "metadata": {},
   "outputs": [
    {
     "data": {
      "image/png": "[encoded data removed]",
      "text/plain": [
       "<Figure size 1080x216 with 5 Axes>"
      ]
     },
     "metadata": {
      "needs_background": "light"
     },
     "output_type": "display_data"
    },
    {
     "data": {
      "image/png": "[encoded data removed]",
      "text/plain": [
       "<Figure size 1080x216 with 5 Axes>"
      ]
     },
     "metadata": {
      "needs_background": "light"
     },
     "output_type": "display_data"
    }
   ],
   "source": [
    "# Selecionar algumas imagens aleatórias do conjunto de teste\n",
    "sample_images = test_images[:5]\n",
    "sample_labels = test_labels[:5]\n",
    "\n",
    "# Plotar as imagens originais\n",
    "fig, axes = plt.subplots(1, 5, figsize=(15, 3))\n",
    "for i, ax in enumerate(axes):\n",
    "    ax.imshow(sample_images[i].reshape(28, 28), cmap='gray')\n",
    "    ax.set_title('Label: {}'.format(sample_labels[i].argmax()))\n",
    "    ax.axis('off')\n",
    "plt.suptitle('Imagens originais')\n",
    "plt.show()\n",
    "\n",
    "# Aplicar o pré-processamento nas imagens\n",
    "sample_images_preprocessed = sample_images * 255.0\n",
    "\n",
    "fig, axes = plt.subplots(1, 5, figsize=(15, 3))\n",
    "for i, ax in enumerate(axes):\n",
    "    ax.imshow(sample_images_preprocessed[i].reshape(28, 28), cmap='gray')\n",
    "    ax.set_title('Label: {}'.format(sample_labels[i].argmax()))\n",
    "    ax.axis('off')\n",
    "plt.suptitle('Imagens pré-processadas')\n",
    "plt.show()"
   ]
  },
  {
   "cell_type": "code",
   "execution_count": 52,
   "metadata": {},
   "outputs": [
    {
     "data": {
      "image/png": "[encoded data removed]",
      "text/plain": [
       "<Figure size 720x1080 with 10 Axes>"
      ]
     },
     "metadata": {
      "needs_background": "light"
     },
     "output_type": "display_data"
    }
   ],
   "source": [
    "import matplotlib.pyplot as plt\n",
    "\n",
    "# Selecionar algumas imagens originais\n",
    "sample_images = test_images[:5]\n",
    "sample_labels = test_labels[:5]\n",
    "\n",
    "# Gerar imagens aumentadas usando o gerador de data augmentation\n",
    "augmented_images = datagen.flow(sample_images, sample_labels, batch_size=1)\n",
    "\n",
    "# Plotar as imagens originais e as imagens aumentadas\n",
    "fig, axes = plt.subplots(5, 2, figsize=(10, 15))\n",
    "for i, ax in enumerate(axes):\n",
    "    # Plotar imagem original\n",
    "    ax[0].imshow(sample_images[i].reshape(28, 28), cmap='gray')\n",
    "    ax[0].set_title('Original')\n",
    "    ax[0].axis('off')\n",
    "    \n",
    "    # Plotar imagem aumentada\n",
    "    augmented_image = augmented_images.next()[0]\n",
    "    ax[1].imshow(augmented_image.reshape(28, 28), cmap='gray')\n",
    "    ax[1].set_title('Augmented')\n",
    "    ax[1].axis('off')\n",
    "\n",
    "plt.tight_layout()\n",
    "plt.show()\n"
   ]
  },
  {
   "cell_type": "code",
   "execution_count": 49,
   "metadata": {},
   "outputs": [
    {
     "data": {
      "image/png": "[encoded data removed]",
      "text/plain": [
       "<Figure size 1080x216 with 5 Axes>"
      ]
     },
     "metadata": {
      "needs_background": "light"
     },
     "output_type": "display_data"
    }
   ],
   "source": [
    "# Gerar algumas imagens aumentadas usando o gerador de data augmentation\n",
    "augmented_images = datagen.flow(train_images[:5], train_labels[:5], batch_size=1)\n",
    "\n",
    "# Plotar as imagens aumentadas\n",
    "fig, axes = plt.subplots(1, 5, figsize=(15, 3))\n",
    "for i, ax in enumerate(axes):\n",
    "    augmented_image = augmented_images.next()[0]\n",
    "    ax.imshow(augmented_image.reshape(28, 28), cmap='gray')\n",
    "    ax.set_title('Augmented Image')\n",
    "    ax.axis('off')\n",
    "plt.suptitle('Imagens aumentadas')\n",
    "plt.show()\n"
   ]
  },
  {
   "cell_type": "code",
   "execution_count": 46,
   "metadata": {},
   "outputs": [
    {
     "name": "stdout",
     "output_type": "stream",
     "text": [
      "Model: \"sequential_41\"\n",
      "_________________________________________________________________\n",
      " Layer (type)                Output Shape              Param #   \n",
      "=================================================================\n",
      " conv2d_47 (Conv2D)          (None, 28, 28, 32)        320       \n",
      "                                                                 \n",
      " max_pooling2d_47 (MaxPoolin  (None, 14, 14, 32)       0         \n",
      " g2D)                                                            \n",
      "                                                                 \n",
      " flatten_41 (Flatten)        (None, 6272)              0         \n",
      "                                                                 \n",
      " dense_82 (Dense)            (None, 128)               802944    \n",
      "                                                                 \n",
      " batch_normalization_5 (Batc  (None, 128)              512       \n",
      " hNormalization)                                                 \n",
      "                                                                 \n",
      " dropout_13 (Dropout)        (None, 128)               0         \n",
      "                                                                 \n",
      " dense_83 (Dense)            (None, 10)                1290      \n",
      "                                                                 \n",
      "=================================================================\n",
      "Total params: 805,066\n",
      "Trainable params: 804,810\n",
      "Non-trainable params: 256\n",
      "_________________________________________________________________\n"
     ]
    }
   ],
   "source": [
    "model.summary()"
   ]
  },
  {
   "cell_type": "code",
   "execution_count": 15,
   "metadata": {},
   "outputs": [
    {
     "name": "stdout",
     "output_type": "stream",
     "text": [
      "Conv2D\n",
      "MaxPooling2D\n",
      "Conv2D\n"
     ]
    }
   ],
   "source": [
    "model = criar_modelo_com_batchnorm(2, 64, 256, 0.1)\n"
   ]
  },
  {
   "cell_type": "code",
   "execution_count": 19,
   "metadata": {},
   "outputs": [
    {
     "ename": "AssertionError",
     "evalue": "Expected image with two or three dimensions, but got 4 dimensions and shape (23, 26, 1, 3).",
     "output_type": "error",
     "traceback": [
      "\u001b[1;31m---------------------------------------------------------------------------\u001b[0m",
      "\u001b[1;31mAssertionError\u001b[0m                            Traceback (most recent call last)",
      "\u001b[1;32mc:\\Users\\juju_\\OneDrive\\Documentos\\Sistemas-de-Informação\\5-Semestre\\IA\\EP1\\fashion_mnist.ipynb Cell 22\u001b[0m in \u001b[0;36m<module>\u001b[1;34m\u001b[0m\n\u001b[0;32m      <a href='vscode-notebook-cell:/c%3A/Users/juju_/OneDrive/Documentos/Sistemas-de-Informa%C3%A7%C3%A3o/5-Semestre/IA/EP1/fashion_mnist.ipynb#X26sZmlsZQ%3D%3D?line=2'>3</a>\u001b[0m train_images_uint8 \u001b[39m=\u001b[39m np\u001b[39m.\u001b[39mrepeat(train_images_uint8, \u001b[39m3\u001b[39m, axis\u001b[39m=\u001b[39m\u001b[39m-\u001b[39m\u001b[39m1\u001b[39m)\n\u001b[0;32m      <a href='vscode-notebook-cell:/c%3A/Users/juju_/OneDrive/Documentos/Sistemas-de-Informa%C3%A7%C3%A3o/5-Semestre/IA/EP1/fashion_mnist.ipynb#X26sZmlsZQ%3D%3D?line=4'>5</a>\u001b[0m \u001b[39m# Aplicar Data Augmentation nos dados de treinamento\u001b[39;00m\n\u001b[1;32m----> <a href='vscode-notebook-cell:/c%3A/Users/juju_/OneDrive/Documentos/Sistemas-de-Informa%C3%A7%C3%A3o/5-Semestre/IA/EP1/fashion_mnist.ipynb#X26sZmlsZQ%3D%3D?line=5'>6</a>\u001b[0m train_images_augmented \u001b[39m=\u001b[39m augmenter(images\u001b[39m=\u001b[39;49mtrain_images_uint8)\n\u001b[0;32m      <a href='vscode-notebook-cell:/c%3A/Users/juju_/OneDrive/Documentos/Sistemas-de-Informa%C3%A7%C3%A3o/5-Semestre/IA/EP1/fashion_mnist.ipynb#X26sZmlsZQ%3D%3D?line=8'>9</a>\u001b[0m \u001b[39m# Concatenar os dados originais com os dados aumentados\u001b[39;00m\n\u001b[0;32m     <a href='vscode-notebook-cell:/c%3A/Users/juju_/OneDrive/Documentos/Sistemas-de-Informa%C3%A7%C3%A3o/5-Semestre/IA/EP1/fashion_mnist.ipynb#X26sZmlsZQ%3D%3D?line=9'>10</a>\u001b[0m train_images_combined \u001b[39m=\u001b[39m np\u001b[39m.\u001b[39mconcatenate([train_images_uint8, train_images_augmented])\n",
      "File \u001b[1;32mc:\\Users\\juju_\\AppData\\Local\\Programs\\Python\\Python310\\lib\\site-packages\\imgaug\\augmenters\\meta.py:2008\u001b[0m, in \u001b[0;36mAugmenter.__call__\u001b[1;34m(self, *args, **kwargs)\u001b[0m\n\u001b[0;32m   2006\u001b[0m \u001b[39mdef\u001b[39;00m \u001b[39m__call__\u001b[39m(\u001b[39mself\u001b[39m, \u001b[39m*\u001b[39margs, \u001b[39m*\u001b[39m\u001b[39m*\u001b[39mkwargs):\n\u001b[0;32m   2007\u001b[0m     \u001b[39m\"\"\"Alias for :func:`~imgaug.augmenters.meta.Augmenter.augment`.\"\"\"\u001b[39;00m\n\u001b[1;32m-> 2008\u001b[0m     \u001b[39mreturn\u001b[39;00m \u001b[39mself\u001b[39m\u001b[39m.\u001b[39maugment(\u001b[39m*\u001b[39margs, \u001b[39m*\u001b[39m\u001b[39m*\u001b[39mkwargs)\n",
      "File \u001b[1;32mc:\\Users\\juju_\\AppData\\Local\\Programs\\Python\\Python310\\lib\\site-packages\\imgaug\\augmenters\\meta.py:1979\u001b[0m, in \u001b[0;36mAugmenter.augment\u001b[1;34m(self, return_batch, hooks, **kwargs)\u001b[0m\n\u001b[0;32m   1968\u001b[0m \u001b[39m# augment batch\u001b[39;00m\n\u001b[0;32m   1969\u001b[0m batch \u001b[39m=\u001b[39m UnnormalizedBatch(\n\u001b[0;32m   1970\u001b[0m     images\u001b[39m=\u001b[39mimages,\n\u001b[0;32m   1971\u001b[0m     heatmaps\u001b[39m=\u001b[39mkwargs\u001b[39m.\u001b[39mget(\u001b[39m\"\u001b[39m\u001b[39mheatmaps\u001b[39m\u001b[39m\"\u001b[39m, \u001b[39mNone\u001b[39;00m),\n\u001b[1;32m   (...)\u001b[0m\n\u001b[0;32m   1976\u001b[0m     line_strings\u001b[39m=\u001b[39mkwargs\u001b[39m.\u001b[39mget(\u001b[39m\"\u001b[39m\u001b[39mline_strings\u001b[39m\u001b[39m\"\u001b[39m, \u001b[39mNone\u001b[39;00m)\n\u001b[0;32m   1977\u001b[0m )\n\u001b[1;32m-> 1979\u001b[0m batch_aug \u001b[39m=\u001b[39m \u001b[39mself\u001b[39;49m\u001b[39m.\u001b[39;49maugment_batch_(batch, hooks\u001b[39m=\u001b[39;49mhooks)\n\u001b[0;32m   1981\u001b[0m \u001b[39m# return either batch or tuple of augmentables, depending on what\u001b[39;00m\n\u001b[0;32m   1982\u001b[0m \u001b[39m# was requested by user\u001b[39;00m\n\u001b[0;32m   1983\u001b[0m \u001b[39mif\u001b[39;00m return_batch:\n",
      "File \u001b[1;32mc:\\Users\\juju_\\AppData\\Local\\Programs\\Python\\Python310\\lib\\site-packages\\imgaug\\augmenters\\meta.py:641\u001b[0m, in \u001b[0;36mAugmenter.augment_batch_\u001b[1;34m(self, batch, parents, hooks)\u001b[0m\n\u001b[0;32m    639\u001b[0m \u001b[39mwith\u001b[39;00m _maybe_deterministic_ctx(\u001b[39mself\u001b[39m):\n\u001b[0;32m    640\u001b[0m     \u001b[39mif\u001b[39;00m \u001b[39mnot\u001b[39;00m batch_inaug\u001b[39m.\u001b[39mempty:\n\u001b[1;32m--> 641\u001b[0m         batch_inaug \u001b[39m=\u001b[39m \u001b[39mself\u001b[39;49m\u001b[39m.\u001b[39;49m_augment_batch_(\n\u001b[0;32m    642\u001b[0m             batch_inaug,\n\u001b[0;32m    643\u001b[0m             random_state\u001b[39m=\u001b[39;49m\u001b[39mself\u001b[39;49m\u001b[39m.\u001b[39;49mrandom_state,\n\u001b[0;32m    644\u001b[0m             parents\u001b[39m=\u001b[39;49mparents \u001b[39mif\u001b[39;49;00m parents \u001b[39mis\u001b[39;49;00m \u001b[39mnot\u001b[39;49;00m \u001b[39mNone\u001b[39;49;00m \u001b[39melse\u001b[39;49;00m [],\n\u001b[0;32m    645\u001b[0m             hooks\u001b[39m=\u001b[39;49mhooks)\n\u001b[0;32m    647\u001b[0m \u001b[39m# revert augmentables being set to None for non-activated augmenters\u001b[39;00m\n\u001b[0;32m    648\u001b[0m \u001b[39mfor\u001b[39;00m column \u001b[39min\u001b[39;00m set_to_none:\n",
      "File \u001b[1;32mc:\\Users\\juju_\\AppData\\Local\\Programs\\Python\\Python310\\lib\\site-packages\\imgaug\\augmenters\\meta.py:3124\u001b[0m, in \u001b[0;36mSequential._augment_batch_\u001b[1;34m(self, batch, random_state, parents, hooks)\u001b[0m\n\u001b[0;32m   3121\u001b[0m         order \u001b[39m=\u001b[39m sm\u001b[39m.\u001b[39mxrange(\u001b[39mlen\u001b[39m(\u001b[39mself\u001b[39m))\n\u001b[0;32m   3123\u001b[0m     \u001b[39mfor\u001b[39;00m index \u001b[39min\u001b[39;00m order:\n\u001b[1;32m-> 3124\u001b[0m         batch \u001b[39m=\u001b[39m \u001b[39mself\u001b[39;49m[index]\u001b[39m.\u001b[39;49maugment_batch_(\n\u001b[0;32m   3125\u001b[0m             batch,\n\u001b[0;32m   3126\u001b[0m             parents\u001b[39m=\u001b[39;49mparents \u001b[39m+\u001b[39;49m [\u001b[39mself\u001b[39;49m],\n\u001b[0;32m   3127\u001b[0m             hooks\u001b[39m=\u001b[39;49mhooks\n\u001b[0;32m   3128\u001b[0m         )\n\u001b[0;32m   3129\u001b[0m \u001b[39mreturn\u001b[39;00m batch\n",
      "File \u001b[1;32mc:\\Users\\juju_\\AppData\\Local\\Programs\\Python\\Python310\\lib\\site-packages\\imgaug\\augmenters\\meta.py:641\u001b[0m, in \u001b[0;36mAugmenter.augment_batch_\u001b[1;34m(self, batch, parents, hooks)\u001b[0m\n\u001b[0;32m    639\u001b[0m \u001b[39mwith\u001b[39;00m _maybe_deterministic_ctx(\u001b[39mself\u001b[39m):\n\u001b[0;32m    640\u001b[0m     \u001b[39mif\u001b[39;00m \u001b[39mnot\u001b[39;00m batch_inaug\u001b[39m.\u001b[39mempty:\n\u001b[1;32m--> 641\u001b[0m         batch_inaug \u001b[39m=\u001b[39m \u001b[39mself\u001b[39;49m\u001b[39m.\u001b[39;49m_augment_batch_(\n\u001b[0;32m    642\u001b[0m             batch_inaug,\n\u001b[0;32m    643\u001b[0m             random_state\u001b[39m=\u001b[39;49m\u001b[39mself\u001b[39;49m\u001b[39m.\u001b[39;49mrandom_state,\n\u001b[0;32m    644\u001b[0m             parents\u001b[39m=\u001b[39;49mparents \u001b[39mif\u001b[39;49;00m parents \u001b[39mis\u001b[39;49;00m \u001b[39mnot\u001b[39;49;00m \u001b[39mNone\u001b[39;49;00m \u001b[39melse\u001b[39;49;00m [],\n\u001b[0;32m    645\u001b[0m             hooks\u001b[39m=\u001b[39;49mhooks)\n\u001b[0;32m    647\u001b[0m \u001b[39m# revert augmentables being set to None for non-activated augmenters\u001b[39;00m\n\u001b[0;32m    648\u001b[0m \u001b[39mfor\u001b[39;00m column \u001b[39min\u001b[39;00m set_to_none:\n",
      "File \u001b[1;32mc:\\Users\\juju_\\AppData\\Local\\Programs\\Python\\Python310\\lib\\site-packages\\imgaug\\augmenters\\size.py:1972\u001b[0m, in \u001b[0;36mCropAndPad._augment_batch_\u001b[1;34m(self, batch, random_state, parents, hooks)\u001b[0m\n\u001b[0;32m   1969\u001b[0m samples \u001b[39m=\u001b[39m \u001b[39mself\u001b[39m\u001b[39m.\u001b[39m_draw_samples(random_state, shapes)\n\u001b[0;32m   1971\u001b[0m \u001b[39mif\u001b[39;00m batch\u001b[39m.\u001b[39mimages \u001b[39mis\u001b[39;00m \u001b[39mnot\u001b[39;00m \u001b[39mNone\u001b[39;00m:\n\u001b[1;32m-> 1972\u001b[0m     batch\u001b[39m.\u001b[39mimages \u001b[39m=\u001b[39m \u001b[39mself\u001b[39;49m\u001b[39m.\u001b[39;49m_augment_images_by_samples(batch\u001b[39m.\u001b[39;49mimages,\n\u001b[0;32m   1973\u001b[0m                                                    samples)\n\u001b[0;32m   1975\u001b[0m \u001b[39mif\u001b[39;00m batch\u001b[39m.\u001b[39mheatmaps \u001b[39mis\u001b[39;00m \u001b[39mnot\u001b[39;00m \u001b[39mNone\u001b[39;00m:\n\u001b[0;32m   1976\u001b[0m     batch\u001b[39m.\u001b[39mheatmaps \u001b[39m=\u001b[39m \u001b[39mself\u001b[39m\u001b[39m.\u001b[39m_augment_maps_by_samples(\n\u001b[0;32m   1977\u001b[0m         batch\u001b[39m.\u001b[39mheatmaps,\n\u001b[0;32m   1978\u001b[0m         \u001b[39mself\u001b[39m\u001b[39m.\u001b[39m_pad_mode_heatmaps, \u001b[39mself\u001b[39m\u001b[39m.\u001b[39m_pad_cval_heatmaps,\n\u001b[0;32m   1979\u001b[0m         samples)\n",
      "File \u001b[1;32mc:\\Users\\juju_\\AppData\\Local\\Programs\\Python\\Python310\\lib\\site-packages\\imgaug\\augmenters\\size.py:2005\u001b[0m, in \u001b[0;36mCropAndPad._augment_images_by_samples\u001b[1;34m(self, images, samples)\u001b[0m\n\u001b[0;32m   2002\u001b[0m \u001b[39mfor\u001b[39;00m i, image \u001b[39min\u001b[39;00m \u001b[39menumerate\u001b[39m(images):\n\u001b[0;32m   2003\u001b[0m     samples_i \u001b[39m=\u001b[39m samples[i]\n\u001b[1;32m-> 2005\u001b[0m     image_cr_pa \u001b[39m=\u001b[39m _crop_and_pad_arr(\n\u001b[0;32m   2006\u001b[0m         image, samples_i\u001b[39m.\u001b[39;49mcroppings, samples_i\u001b[39m.\u001b[39;49mpaddings,\n\u001b[0;32m   2007\u001b[0m         samples_i\u001b[39m.\u001b[39;49mpad_mode, samples_i\u001b[39m.\u001b[39;49mpad_cval, \u001b[39mself\u001b[39;49m\u001b[39m.\u001b[39;49mkeep_size)\n\u001b[0;32m   2009\u001b[0m     result\u001b[39m.\u001b[39mappend(image_cr_pa)\n\u001b[0;32m   2011\u001b[0m \u001b[39mif\u001b[39;00m ia\u001b[39m.\u001b[39mis_np_array(images):\n",
      "File \u001b[1;32mc:\\Users\\juju_\\AppData\\Local\\Programs\\Python\\Python310\\lib\\site-packages\\imgaug\\augmenters\\size.py:81\u001b[0m, in \u001b[0;36m_crop_and_pad_arr\u001b[1;34m(arr, croppings, paddings, pad_mode, pad_cval, keep_size)\u001b[0m\n\u001b[0;32m     77\u001b[0m height, width \u001b[39m=\u001b[39m arr\u001b[39m.\u001b[39mshape[\u001b[39m0\u001b[39m:\u001b[39m2\u001b[39m]\n\u001b[0;32m     79\u001b[0m image_cr \u001b[39m=\u001b[39m _crop_arr_(arr, \u001b[39m*\u001b[39mcroppings)\n\u001b[1;32m---> 81\u001b[0m image_cr_pa \u001b[39m=\u001b[39m pad(\n\u001b[0;32m     82\u001b[0m     image_cr,\n\u001b[0;32m     83\u001b[0m     top\u001b[39m=\u001b[39;49mpaddings[\u001b[39m0\u001b[39;49m], right\u001b[39m=\u001b[39;49mpaddings[\u001b[39m1\u001b[39;49m],\n\u001b[0;32m     84\u001b[0m     bottom\u001b[39m=\u001b[39;49mpaddings[\u001b[39m2\u001b[39;49m], left\u001b[39m=\u001b[39;49mpaddings[\u001b[39m3\u001b[39;49m],\n\u001b[0;32m     85\u001b[0m     mode\u001b[39m=\u001b[39;49mpad_mode, cval\u001b[39m=\u001b[39;49mpad_cval)\n\u001b[0;32m     87\u001b[0m \u001b[39mif\u001b[39;00m keep_size:\n\u001b[0;32m     88\u001b[0m     image_cr_pa \u001b[39m=\u001b[39m ia\u001b[39m.\u001b[39mimresize_single_image(image_cr_pa, (height, width))\n",
      "File \u001b[1;32mc:\\Users\\juju_\\AppData\\Local\\Programs\\Python\\Python310\\lib\\site-packages\\imgaug\\augmenters\\size.py:427\u001b[0m, in \u001b[0;36mpad\u001b[1;34m(arr, top, right, bottom, left, mode, cval)\u001b[0m\n\u001b[0;32m    356\u001b[0m \u001b[39m\"\"\"Pad an image-like array on its top/right/bottom/left side.\u001b[39;00m\n\u001b[0;32m    357\u001b[0m \n\u001b[0;32m    358\u001b[0m \u001b[39mThis function is a wrapper around :func:`numpy.pad`.\u001b[39;00m\n\u001b[1;32m   (...)\u001b[0m\n\u001b[0;32m    423\u001b[0m \n\u001b[0;32m    424\u001b[0m \u001b[39m\"\"\"\u001b[39;00m\n\u001b[0;32m    425\u001b[0m \u001b[39mimport\u001b[39;00m \u001b[39mimgaug\u001b[39;00m\u001b[39m.\u001b[39;00m\u001b[39mdtypes\u001b[39;00m \u001b[39mas\u001b[39;00m \u001b[39miadt\u001b[39;00m\n\u001b[1;32m--> 427\u001b[0m _assert_two_or_three_dims(arr)\n\u001b[0;32m    428\u001b[0m \u001b[39massert\u001b[39;00m \u001b[39mall\u001b[39m([v \u001b[39m>\u001b[39m\u001b[39m=\u001b[39m \u001b[39m0\u001b[39m \u001b[39mfor\u001b[39;00m v \u001b[39min\u001b[39;00m [top, right, bottom, left]]), (\n\u001b[0;32m    429\u001b[0m     \u001b[39m\"\u001b[39m\u001b[39mExpected padding amounts that are >=0, but got \u001b[39m\u001b[39m%d\u001b[39;00m\u001b[39m, \u001b[39m\u001b[39m%d\u001b[39;00m\u001b[39m, \u001b[39m\u001b[39m%d\u001b[39;00m\u001b[39m, \u001b[39m\u001b[39m%d\u001b[39;00m\u001b[39m \u001b[39m\u001b[39m\"\u001b[39m\n\u001b[0;32m    430\u001b[0m     \u001b[39m\"\u001b[39m\u001b[39m(top, right, bottom, left)\u001b[39m\u001b[39m\"\u001b[39m \u001b[39m%\u001b[39m (top, right, bottom, left))\n\u001b[0;32m    432\u001b[0m is_multi_cval \u001b[39m=\u001b[39m ia\u001b[39m.\u001b[39mis_iterable(cval)\n",
      "File \u001b[1;32mc:\\Users\\juju_\\AppData\\Local\\Programs\\Python\\Python310\\lib\\site-packages\\imgaug\\augmenters\\size.py:350\u001b[0m, in \u001b[0;36m_assert_two_or_three_dims\u001b[1;34m(shape)\u001b[0m\n\u001b[0;32m    348\u001b[0m \u001b[39mif\u001b[39;00m \u001b[39mhasattr\u001b[39m(shape, \u001b[39m\"\u001b[39m\u001b[39mshape\u001b[39m\u001b[39m\"\u001b[39m):\n\u001b[0;32m    349\u001b[0m     shape \u001b[39m=\u001b[39m shape\u001b[39m.\u001b[39mshape\n\u001b[1;32m--> 350\u001b[0m \u001b[39massert\u001b[39;00m \u001b[39mlen\u001b[39m(shape) \u001b[39min\u001b[39;00m [\u001b[39m2\u001b[39m, \u001b[39m3\u001b[39m], (\n\u001b[0;32m    351\u001b[0m     \u001b[39m\"\u001b[39m\u001b[39mExpected image with two or three dimensions, but got \u001b[39m\u001b[39m%d\u001b[39;00m\u001b[39m dimensions \u001b[39m\u001b[39m\"\u001b[39m\n\u001b[0;32m    352\u001b[0m     \u001b[39m\"\u001b[39m\u001b[39mand shape \u001b[39m\u001b[39m%s\u001b[39;00m\u001b[39m.\u001b[39m\u001b[39m\"\u001b[39m \u001b[39m%\u001b[39m (\u001b[39mlen\u001b[39m(shape), shape))\n",
      "\u001b[1;31mAssertionError\u001b[0m: Expected image with two or three dimensions, but got 4 dimensions and shape (23, 26, 1, 3)."
     ]
    }
   ],
   "source": [
    "# Converter as imagens para uint8 e expandir a dimensão para três canais\n",
    "train_images_uint8 = np.expand_dims((train_images * 255).astype(np.uint8), axis=-1)\n",
    "train_images_uint8 = np.repeat(train_images_uint8, 3, axis=-1)\n",
    "\n",
    "# Aplicar Data Augmentation nos dados de treinamento\n",
    "train_images_augmented = augmenter(images=train_images_uint8)\n",
    "\n",
    "\n",
    "# Concatenar os dados originais com os dados aumentados\n",
    "train_images_combined = np.concatenate([train_images_uint8, train_images_augmented])\n",
    "train_labels_combined = np.concatenate([train_labels, train_labels])\n",
    "\n",
    "# Treinar o modelo com os dados aumentados\n",
    "model.fit(train_images_combined, train_labels_combined, epochs=5, batch_size=64, verbose=0)\n",
    "test_loss, test_acc = model.evaluate(test_images, test_labels)\n",
    "print(\"test_loss:\", test_loss, \"\\ntest_acc:\", test_acc)\n",
    "print(f\"Essa acurácia significa que o modelo usando layer: {melhor_layer}, filter: {melhor_filter}, tamanho da camada densa: {melhor_dense}, dropout: {dropout_rate}, com batch normalization e com data augmentation é capaz de classificar corretamente {round(test_acc*100, 1)}%  das imagens\")\n",
    "\n",
    "print(f\"Portanto, possui {round(test_acc*100, 1)} de acurácia.\")"
   ]
  },
  {
   "cell_type": "code",
   "execution_count": null,
   "metadata": {},
   "outputs": [],
   "source": []
  }
 ],
 "metadata": {
  "kernelspec": {
   "display_name": "Python 3",
   "language": "python",
   "name": "python3"
  },
  "language_info": {
   "codemirror_mode": {
    "name": "ipython",
    "version": 3
   },
   "file_extension": ".py",
   "mimetype": "text/x-python",
   "name": "python",
   "nbconvert_exporter": "python",
   "pygments_lexer": "ipython3",
   "version": "3.10.1"
  },
  "orig_nbformat": 4
 },
 "nbformat": 4,
 "nbformat_minor": 2
}
