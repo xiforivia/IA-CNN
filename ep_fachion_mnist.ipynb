{
 "cells": [
  {
   "cell_type": "code",
   "execution_count": 1,
   "metadata": {},
   "outputs": [],
   "source": [
    "import numpy as np\n",
    "import tensorflow as tf\n",
    "from tensorflow import keras\n",
    "import pandas as pd\n",
    "from keras.datasets import fashion_mnist\n",
    "import matplotlib.pyplot as plt\n",
    "from keras import models\n",
    "from keras import layers\n",
    "from keras.utils import to_categorical"
   ]
  },
  {
   "cell_type": "code",
   "execution_count": 2,
   "metadata": {},
   "outputs": [],
   "source": [
    "def pre_processamento():\n",
    "    (train_images, train_labels), (test_images, test_labels) = fashion_mnist.load_data()\n",
    "\n",
    "    train_images = train_images.reshape((60000,28,28,1))\n",
    "    train_images = train_images.astype('float32')/255\n",
    "\n",
    "    test_images = test_images.reshape((10000,28,28,1))\n",
    "    test_images = test_images.astype('float32')/255\n",
    "\n",
    "    train_labels = to_categorical(train_labels)\n",
    "    test_labels = to_categorical(test_labels)\n",
    "\n",
    "    return train_images, train_labels, test_images, test_labels"
   ]
  },
  {
   "cell_type": "code",
   "execution_count": 3,
   "metadata": {},
   "outputs": [],
   "source": [
    "def create_cnn_model(num_conv_layers):\n",
    "    model = tf.keras.models.Sequential()\n",
    "\n",
    "    # Camadas de convolução-pooling\n",
    "    for i in range(num_conv_layers):\n",
    "        model.add(tf.keras.layers.Conv2D(filters=32, kernel_size=(3, 3), strides=(1, 1), padding='same', activation='relu', input_shape=(28, 28, 1)))\n",
    "        model.add(tf.keras.layers.MaxPooling2D(pool_size=(2, 2)))\n",
    "\n",
    "    model.add(tf.keras.layers.Flatten())\n",
    "    model.add(tf.keras.layers.Dense(128, activation='relu'))\n",
    "    model.add(tf.keras.layers.Dense(10, activation='softmax')) # 10 é o número de classes\n",
    "\n",
    "    return model\n"
   ]
  },
  {
   "cell_type": "code",
   "execution_count": 7,
   "metadata": {},
   "outputs": [
    {
     "name": "stdout",
     "output_type": "stream",
     "text": [
      "Número de camadas de convolução-pooling: 1\n",
      "Acurácia média: 0.916016674041748\n",
      "Número de camadas de convolução-pooling: 2\n",
      "Acurácia média: 0.9185333251953125\n",
      "Número de camadas de convolução-pooling: 3\n",
      "Acurácia média: 0.9064166665077209\n",
      "Portanto, o melhor número de camadas é 2, com a acurácia de 0.9185333251953125\n"
     ]
    }
   ],
   "source": [
    "# Parâmetros\n",
    "num_conv_layers_list = [1, 2, 3]\n",
    "num_folds = 5\n",
    "\n",
    "# Lista para armazenar as acurácias\n",
    "accuracies = {}\n",
    "\n",
    "# Pré-processamento dos dados\n",
    "train_images, train_labels, test_images, test_labels = pre_processamento()\n",
    "\n",
    "\n",
    "melhor = 0\n",
    "num_camada = 0\n",
    "\n",
    "# Cross-validation\n",
    "for num_conv_layers in num_conv_layers_list:\n",
    "    fold_accuracies = []\n",
    "    for fold in range(num_folds):\n",
    "        # Dividir os dados de treinamento em folds de treinamento e validação\n",
    "        fold_size = len(train_images) // num_folds\n",
    "        fold_start = fold * fold_size\n",
    "        fold_end = (fold + 1) * fold_size\n",
    "\n",
    "        x_val_fold = train_images[fold_start:fold_end]\n",
    "        y_val_fold = train_labels[fold_start:fold_end]\n",
    "\n",
    "        train_images_fold = np.concatenate([train_images[:fold_start], train_images[fold_end:]])\n",
    "        train_labels_fold = np.concatenate([train_labels[:fold_start], train_labels[fold_end:]])\n",
    "\n",
    "        # Criar o modelo CNN\n",
    "        model = create_cnn_model(num_conv_layers)\n",
    "\n",
    "        # Compilar e treinar o modelo\n",
    "        model.compile(optimizer='rmsprop', loss='categorical_crossentropy', metrics=['accuracy'])\n",
    "        model.fit(train_images_fold, train_labels_fold, epochs=10, batch_size=64, verbose=0)\n",
    "\n",
    "        # Avaliar o modelo no fold de validação\n",
    "        _, accuracy = model.evaluate(x_val_fold, y_val_fold, verbose=0)\n",
    "        fold_accuracies.append(accuracy)\n",
    "\n",
    "    # Calcular a acurácia média para o número atual de camadas de convolução-pooling\n",
    "    avg_accuracy = np.mean(fold_accuracies)\n",
    "    accuracies.update({num_conv_layers:avg_accuracy})\n",
    "    if accuracies[num_conv_layers] > melhor:\n",
    "        melhor = accuracies[num_conv_layers]\n",
    "        num_camada = num_conv_layers\n",
    "\n",
    "    print(\"Número de camadas de convolução-pooling:\", num_conv_layers)\n",
    "    print(\"Acurácia média:\", avg_accuracy)\n",
    "\n",
    "print(f\"Portanto, o melhor número de camadas é {num_camada}, com a acurácia de {melhor}\")\n",
    "\n",
    "# Imprimir as acurácias para cada quantidade de camadas de convolução-pooling\n",
    "\n",
    "# for layer in accuracies.keys():\n",
    "#     print(\"Número de camadas de convolução-pooling:\", layer)\n",
    "#     print(\"Acurácia média:\", accuracies[layer])\n",
    "#     if accuracies[layer] > melhor:\n",
    "#         melhor = accuracies[layer]\n",
    "#         num_camada = layer\n",
    "# print(f\"Portanto, o melhor número de camadas é {num_camada}, com a acurácia de {melhor}\")"
   ]
  },
  {
   "cell_type": "code",
   "execution_count": null,
   "metadata": {},
   "outputs": [],
   "source": []
  }
 ],
 "metadata": {
  "kernelspec": {
   "display_name": "Python 3",
   "language": "python",
   "name": "python3"
  },
  "language_info": {
   "codemirror_mode": {
    "name": "ipython",
    "version": 3
   },
   "file_extension": ".py",
   "mimetype": "text/x-python",
   "name": "python",
   "nbconvert_exporter": "python",
   "pygments_lexer": "ipython3",
   "version": "3.10.1"
  },
  "orig_nbformat": 4
 },
 "nbformat": 4,
 "nbformat_minor": 2
}
